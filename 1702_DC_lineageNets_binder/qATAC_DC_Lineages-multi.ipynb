{
 "cells": [
  {
   "cell_type": "code",
   "execution_count": 1,
   "metadata": {
    "collapsed": false
   },
   "outputs": [],
   "source": [
    "# Modes of regulation that turn on under SI conditions, relative to LI\n",
    "\n",
    "# GOAL: We want to visualize each quantitadirectory = \"/Users/emiraldi/erm/Shared/DCproject/DCquantAtacNetworks\" # note, \"try\" statement below\n",
    "    # where script also searches the current directory\n",
    "directory = \"/Users/emiraldi/erm/Shared/DCproject/DCquantAtacNetworks\"\n",
    "    \n",
    "# netPath = \"DC_genesets_FC1_FDR10/DCs_max4_body_bp10000/DCnets_loc/DCnets_loc_pFC1_FDR10_rawp0001_hyg0001\"\n",
    "netPath = \"DCs_ATAC_1701_cut4_2f_body_bp10000_pFDR10_FC1_gFDR10_FC1/DCs_pFDR10_FC1_gFDR10_FC1_rawp00001_hyg001\"\n",
    "\n",
    "# The starting conditions for each of the networks, a list of tuples.  Tuple entries are:\n",
    "# 0. network file name (column format) (as found in directory)\n",
    "# 1. column of the expression matrix that you want the nodes to be colored by\n",
    "# 2. network title, to which we'll add the gene and peak cutoffs\n",
    "# 3. subselect the list of relevant genes -- NOT USED for this code and can be left out\n",
    "networkInits = [('CD103p_sp.tsv','GF_SI_CD11b-CD103+_1','CD103+CD11b- DCs',''),\n",
    "\t('CD11bmCD103m_sp.tsv','GF_SI_CD11b-CD103-_1','CD11b-CD103- DCs',''),\n",
    "\t('CD11bpCD103p_sp.tsv','GF_SI_CD11b+CD103+_1','CD11b+CD103+ DCs',''),\n",
    "\t('CD11bp_sp.tsv','GF_SI_CD11b+CD103-_1','CD11b+CD103- DCs',''),\n",
    "\t('Macrophage_sp.tsv','GF_SI_Macrophage_1','Macrophage',''),\n",
    "\t('Monocyte_sp.tsv','GF_SI_Monocyte_1','Monocyte','')]\n",
    "\n",
    "expressionFile = \"DC_RNAseq_2f_lengthNormCounts.txt\"\n",
    "\n",
    "tfFocus = 0 # If 1, automatically applies the \"trim\" function, so we can focus on TFs\n",
    "    # If 0, does not!\n",
    "\n",
    "threshhold = .2 # Set to .6 if you want to remove TFs that aren't differentially expressed\n",
    "\n",
    "clim = 1.5 # absolute value color threshhold on edge color\n",
    "\n",
    "\n",
    "tfFocus = 1 # If 1, automatically applies the \"trim\" function, so we can focus on TFs\n",
    "    # If 0, does not!\n",
    "\n",
    "threshhold = .2 # for edge weights in graph\n",
    "\n",
    "clim = 1.5 # absolute value color threshhold on edge color"
   ]
  },
  {
   "cell_type": "code",
   "execution_count": 2,
   "metadata": {
    "collapsed": false
   },
   "outputs": [
    {
     "data": {
      "application/javascript": [
       "\n",
       "// This is the javascript side to match js_proxy.py.\n",
       "// See js_proxy.py for an explanation of the command transfer\n",
       "// protocol\n",
       "\n",
       "// imitating ipywidgets/docs/source/examples/Custom Widget - Hello World.ipynb\n",
       "\n",
       "//require([\"widgets/js/widget\", \"widgets/js/manager\", \"underscore\", \"jquery\"\n",
       "//], function(widget, manager, _, $) {\n",
       "\n",
       "require.undef(\"JSProxy\");\n",
       "\n",
       "define(\"JSProxy\", [\"jupyter-js-widgets\"], function(widgets) {\n",
       "\n",
       "    var JSProxyView = widgets.DOMWidgetView.extend({\n",
       "\n",
       "        render: function() {\n",
       "            var that = this;\n",
       "            that.on(\"displayed\", function() {\n",
       "                that.update();\n",
       "            });\n",
       "            // Wrap $el as a proper jQuery object\n",
       "            that.$$el = $(that.$el);\n",
       "            // \"new\" keyword emulation\n",
       "            // http://stackoverflow.com/questions/17342497/dynamically-control-arguments-while-creating-objects-in-javascript\n",
       "            that.$$el.New = function(klass, args) {\n",
       "                var obj = Object.create(klass.prototype);\n",
       "                return klass.apply(obj, args) || obj;\n",
       "            };\n",
       "\n",
       "            // fix key bindings for wayward element.\n",
       "            // XXXX This is a bit of a hack that may not be needed in future\n",
       "            // Jupyter releases.\n",
       "            that.$$el.Fix = function(element) {\n",
       "                debugger;\n",
       "                that.model.widget_manager.keyboard_manager.register_events(element);\n",
       "            };\n",
       "        },\n",
       "\n",
       "        update: function(options) {\n",
       "            var that = this;\n",
       "            var commands = that.model.get(\"commands\");\n",
       "            if (commands.length >= 2) {\n",
       "                var command_counter = commands[0];\n",
       "                var command_list = commands[1];\n",
       "                var level = commands[2];\n",
       "                level = that.check_level(level);\n",
       "                var results = [];\n",
       "                _.each(command_list, function(command,i) {\n",
       "                    var result = that.execute_command(command);\n",
       "                    results[i] = that.json_safe(result, level);\n",
       "                });\n",
       "                that.model.set(\"commands\", []);\n",
       "                that.model.set(\"results\", [command_counter, results])\n",
       "                that.touch();\n",
       "            }\n",
       "        },\n",
       "\n",
       "        execute_command: function(command) {\n",
       "            var that = this;\n",
       "            var result = command;\n",
       "            if ($.isArray(command)) {\n",
       "                var indicator = command[0];\n",
       "                var remainder = command.slice();\n",
       "                remainder.shift();\n",
       "                if (indicator == \"element\") {\n",
       "                    // Make sure the element is wrapped as a proper JQuery(UI) object\n",
       "                    if (!that.$$el) {\n",
       "                        that.$$el = $(that.$el);\n",
       "                    }\n",
       "                    result = that.$$el;\n",
       "                } else if (indicator == \"window\") {\n",
       "                    result = window;\n",
       "                } else if (indicator == \"method\") {\n",
       "                    var target_desc = remainder.shift();\n",
       "                    var target = that.execute_command(target_desc);\n",
       "                    var name = remainder.shift();\n",
       "                    var args = remainder.map(that.execute_command, that);\n",
       "                    var method = target[name];\n",
       "                    if (method) {\n",
       "                        result = method.apply(target, args);\n",
       "                    } else {\n",
       "                        result = \"In \" + target + \" no such method \" + name;\n",
       "                    }\n",
       "                } else if (indicator == \"function\") {\n",
       "                    var function_desc = remainder.shift();\n",
       "                    var function_value = that.execute_command(function_desc);\n",
       "                    var args = remainder.map(that.execute_command, that);\n",
       "                    // Use \"that\" as the \"this\" value for function values?\n",
       "                    result = function_value.apply(that, args);\n",
       "                } else if (indicator == \"id\") {\n",
       "                    result = remainder[0];\n",
       "                } else if (indicator == \"list\") {\n",
       "                    result = remainder.map(that.execute_command, that);\n",
       "                } else if (indicator == \"dict\") {\n",
       "                    result = {}\n",
       "                    var desc = remainder[0];\n",
       "                    for (var key in desc) {\n",
       "                        var key_desc = desc[key];\n",
       "                        var val = that.execute_command(key_desc);\n",
       "                        result[key] = val;\n",
       "                    }\n",
       "                } else if (indicator == \"callback\") {\n",
       "                    var identifier = remainder.shift();\n",
       "                    var data = remainder.shift();\n",
       "                    var level = remainder.shift();\n",
       "                    // sanity check\n",
       "                    level = that.check_level(level);\n",
       "                    result = that.callback_factory(identifier, data, level);\n",
       "                } else if (indicator == \"get\") {\n",
       "                    var target_desc = remainder.shift();\n",
       "                    var target = that.execute_command(target_desc);\n",
       "                    var name = remainder.shift();\n",
       "                    try {\n",
       "                        result = target[name];\n",
       "                    } catch(err) {\n",
       "                        result = \"failed to get \"+name+\" from \"+target+\" :: \"+err;\n",
       "                    }\n",
       "                } else if (indicator == \"set\") {\n",
       "                    var target_desc = remainder.shift();\n",
       "                    var target = that.execute_command(target_desc);\n",
       "                    var name = remainder.shift();\n",
       "                    var value_desc = remainder.shift()\n",
       "                    var value = that.execute_command(value_desc);\n",
       "                    target[name] = value;\n",
       "                    result = target;\n",
       "                } else if (indicator == \"null\") {\n",
       "                    target_desc = remainder.shift();\n",
       "                    that.execute_command(target_desc);\n",
       "                    result = null;\n",
       "                } else {\n",
       "                    result = \"Unknown indicator \" + indicator;\n",
       "                }\n",
       "            }\n",
       "            return result;\n",
       "        },\n",
       "\n",
       "        check_level: function(level) {\n",
       "            if ((typeof level) != \"number\" || (level < 0)) {\n",
       "                level = 0;\n",
       "            } else if (level > 5) {\n",
       "                level = 5;\n",
       "            }\n",
       "            return level;\n",
       "        },\n",
       "\n",
       "        callback_factory: function(identifier, data, level) {\n",
       "            var that = this;\n",
       "            // Counter makes sure change is noticed even if other arguments don't change.\n",
       "            var counter = 0;\n",
       "            var handler = function () {\n",
       "                counter += 1;\n",
       "                var payload = that.json_safe([identifier, data, arguments, counter], level + 1);\n",
       "                that.model.set(\"callback_results\", payload);\n",
       "                that.touch();\n",
       "            };\n",
       "            return handler;\n",
       "        },\n",
       "\n",
       "        json_safe: function(val, depth) {\n",
       "            // maybe expand later as need arises\n",
       "            var that = this;\n",
       "            var ty = (typeof val);\n",
       "            if ((ty == \"number\") || (ty == \"string\") || (ty == \"boolean\")) {\n",
       "                return val;\n",
       "            }\n",
       "            if (!val) {\n",
       "                // translate all other falsies to None\n",
       "                return null;\n",
       "            }\n",
       "            if (((typeof depth) == \"number\") && (depth > 0)) {\n",
       "                if ($.isArray(val)) {\n",
       "                    var result = [];\n",
       "                    _.each(val, function(elt, i) {\n",
       "                        var r = that.json_safe(elt, depth-1);\n",
       "                        if (r != null) {\n",
       "                            result[i] = r;\n",
       "                        }\n",
       "                    });\n",
       "                    return result;\n",
       "                } else {\n",
       "                    var result = {};\n",
       "                    for (var key in val) {\n",
       "                        var jv = that.json_safe(val[key], depth-1);\n",
       "                        if (jv != null) {\n",
       "                            result[key] = jv;\n",
       "                        }\n",
       "                    }\n",
       "                    return result;\n",
       "                }\n",
       "            }\n",
       "            return null;\n",
       "        }\n",
       "\n",
       "    });\n",
       "\n",
       "    //manager.WidgetManager.register_widget_view('JSProxyView', JSProxyView);\n",
       "    return {\n",
       "        JSProxyView: JSProxyView\n",
       "    }\n",
       "});\n"
      ],
      "text/plain": [
       "<IPython.core.display.Javascript object>"
      ]
     },
     "metadata": {},
     "output_type": "display_data"
    },
    {
     "data": {
      "application/javascript": [
       "\n",
       "// imitating ipywidgets/docs/source/examples/Custom Widget - Hello World.ipynb\n",
       "\n",
       "//require([\"widgets/js/widget\", \"widgets/js/manager\"], function(widget, manager){\n",
       "\n",
       "require.undef(\"SVGCanvas\");\n",
       "\n",
       "define(\"SVGCanvas\", [\"jupyter-js-widgets\"], function(widgets) {\n",
       "    \n",
       "    var svgEventHandlerFactory = function(that) {\n",
       "        var svgEventHandler = function(e) {\n",
       "            var target = e.target;\n",
       "            var info = {};\n",
       "            for (var attr in e) {\n",
       "                var val = e[attr];\n",
       "                var ty = (typeof val);\n",
       "                if ((ty == \"number\") ||\n",
       "                    (ty == \"string\") ||\n",
       "                    (ty == \"boolean\")) {\n",
       "                    info[attr] = val;\n",
       "                }\n",
       "            }\n",
       "            info.name = target.ipy_name;\n",
       "            var ept = SVGEventLocation(that, e);\n",
       "            info.svgX = ept.x;\n",
       "            info.svgY = ept.y;\n",
       "            var json = JSON.stringify(info);\n",
       "            that.model.set(\"event\", json);\n",
       "            that.touch();\n",
       "        };\n",
       "        return svgEventHandler;\n",
       "    };\n",
       "\n",
       "    var SVGEventLocation = function(that, e) {\n",
       "        // http://stackoverflow.com/questions/10298658/mouse-position-inside-autoscaled-svg\n",
       "        var pt = that.reference_point;\n",
       "        var svg = that.$svg[0];\n",
       "        pt.x = e.clientX;\n",
       "        pt.y = e.clientY;\n",
       "        return pt.matrixTransform(svg.getScreenCTM().inverse());\n",
       "    }\n",
       "    \n",
       "    var SVGCanvasView = widgets.DOMWidgetView.extend({\n",
       "        \n",
       "        render: function() {\n",
       "            var that = this;\n",
       "            var svg = that.svg_elt(\"svg\");\n",
       "            var eventHandler = svgEventHandlerFactory(that);\n",
       "            that.eventHandler = eventHandler;\n",
       "            that.named_elements = {};\n",
       "            svg.ipy_name = \"\";\n",
       "            that.$svg = $(svg);\n",
       "            that.reference_point = svg.createSVGPoint();\n",
       "            svg.setAttribute(\"preserveAspectRatio\", \"none\");\n",
       "            that.$el.append(that.$svg);\n",
       "            that.svg_parameters_changed();\n",
       "            that.commands_changed();\n",
       "            that.start_watch_event();\n",
       "            that.model.on(\"change:commands\", that.commands_changed, that);\n",
       "            that.model.on(\"change:viewBox\", that.svg_parameters_changed, that);\n",
       "            that.model.on(\"change:svg_width\", that.svg_parameters_changed, that);\n",
       "            that.model.on(\"change:svg_height\", that.svg_parameters_changed, that);\n",
       "            that.model.on(\"change:style\", that.svg_parameters_changed, that);\n",
       "            that.model.on(\"change:watch_event\", that.start_watch_event, that);\n",
       "            that.model.on(\"change:unwatch_event\", that.stop_watch_event, that);\n",
       "        },\n",
       "        \n",
       "        start_watch_event: function() {\n",
       "            var that = this;\n",
       "            var event_types = that.model.get(\"watch_event\");\n",
       "            if (event_types != \"\") {\n",
       "                that.$svg.on(event_types, that.eventHandler);\n",
       "                that.model.set(\"watch_event\", \"\");\n",
       "                that.touch();\n",
       "            }\n",
       "        },\n",
       "        \n",
       "        stop_watch_event: function() {\n",
       "            var that = this;\n",
       "            var event_types = that.model.get(\"unwatch_event\");\n",
       "            if (event_types != \"\") {\n",
       "                that.$svg.off(event_types);\n",
       "                that.model.set(\"watch_event\", \"\");\n",
       "                that.touch();\n",
       "            }\n",
       "        },\n",
       "        \n",
       "        commands_changed: function() {\n",
       "            var that = this;\n",
       "            var svg = that.$svg[0];\n",
       "            var commands = that.get_JSON(\"commands\")\n",
       "            for (var i=0; i<commands.length; i++) {\n",
       "                var command_dict = commands[i];\n",
       "                var indicator = command_dict[\"command\"];\n",
       "                var method = that[\"do_\"+indicator];\n",
       "                method(that, command_dict);\n",
       "            }\n",
       "        },\n",
       "\n",
       "        do_fit: function(that, info) {\n",
       "            // fit viewport to bounding box.\n",
       "            var svg = that.$svg[0];\n",
       "            var bbox = svg.getBBox();\n",
       "            var D = {\"width\": bbox.width, \"height\": bbox.height, \"x\": bbox.x, \"y\": bbox.y}\n",
       "            var vbox = \"\" + D.x + \" \" + D.y + \" \" + D.width + \" \" + D.height;\n",
       "            if ((D.width > 0) && (D.height > 0)) {\n",
       "                that.model.set(\"boundingBox\", D);\n",
       "                if (info.changeView) {\n",
       "                    that.model.set(\"viewBox\", vbox);\n",
       "                }\n",
       "                // Element viewBox will be updated later by model change.\n",
       "                that.touch();\n",
       "            }\n",
       "        },\n",
       "        \n",
       "        do_add_element: function (that, info) {\n",
       "            var tag = info.tag;\n",
       "            var name = info.name;\n",
       "            var element = that.svg_elt(tag);\n",
       "            element.ipy_name = name;\n",
       "            var $element = $(element);\n",
       "            that.update_element($element, info);\n",
       "            // add event callbacks\n",
       "            that.$svg.append($element);\n",
       "            that.named_elements[name] = $element;\n",
       "        },\n",
       "        \n",
       "        do_change_element: function (that, info) {\n",
       "            var name = info.name;\n",
       "            var $element = that.named_elements[name];\n",
       "            if ($element) {\n",
       "                that.update_element($element, info);\n",
       "            } else {\n",
       "                console.warn(\"couldn't find element for \"+name);\n",
       "            }\n",
       "        },\n",
       "        \n",
       "        do_delete: function (that, info) {\n",
       "            var names = info.names;\n",
       "            for (var i=0; i<names.length; i++) {\n",
       "                var name = names[i];\n",
       "                var $element = that.named_elements[name];\n",
       "                if ($element) {\n",
       "                    $element.remove();\n",
       "                    delete that.named_elements[name];\n",
       "                }\n",
       "            }\n",
       "        },\n",
       "        \n",
       "        update_element: function($element, info) {\n",
       "            var element = $element[0];\n",
       "            var atts = info.atts;\n",
       "            var style = info.style;\n",
       "            var text = info.text;\n",
       "            if (atts) {\n",
       "                for (var att in atts) {\n",
       "                    element.setAttribute(att, atts[att]);\n",
       "                }\n",
       "            }\n",
       "            if (style) {\n",
       "                for (var styling in style) {\n",
       "                    element.style[styling] = style[styling];\n",
       "                }\n",
       "            }\n",
       "            if (text) {\n",
       "                $element.empty();\n",
       "                var node = document.createTextNode(text);\n",
       "                element.appendChild(node);\n",
       "            }\n",
       "        },\n",
       "        \n",
       "        do_empty: function (that, info) {\n",
       "            that.named_elements = {};\n",
       "            that.$svg.empty();\n",
       "        },\n",
       "        \n",
       "        svg_parameters_changed: function() {\n",
       "            var that = this;\n",
       "            var style_additions = that.get_JSON(\"style\");\n",
       "            var svg = that.$svg[0];\n",
       "            svg.setAttribute(\"viewBox\", that.model.get(\"viewBox\"));\n",
       "            svg.setAttribute(\"width\", that.model.get(\"svg_width\"));\n",
       "            svg.setAttribute(\"height\", that.model.get(\"svg_height\"));\n",
       "            for (var style_attr in style_additions) {\n",
       "                svg.style[style_attr] = style_additions[style_attr];\n",
       "            }\n",
       "        },\n",
       "        \n",
       "        get_JSON: function(name) {\n",
       "            var json = this.model.get(name);\n",
       "            return $.parseJSON(json);\n",
       "        },\n",
       "        \n",
       "        svg_elt: function(kind) {\n",
       "            return document.createElementNS('http://www.w3.org/2000/svg', kind);\n",
       "        }\n",
       "        \n",
       "    });\n",
       "    \n",
       "    //manager.WidgetManager.register_widget_view('SVGCanvasView', SVGCanvasView);\n",
       "    return {\n",
       "        SVGCanvasView: SVGCanvasView\n",
       "    }\n",
       "});\n"
      ],
      "text/plain": [
       "<IPython.core.display.Javascript object>"
      ]
     },
     "metadata": {},
     "output_type": "display_data"
    },
    {
     "data": {
      "application/javascript": [
       "/*\n",
       "jQuery plugin for a color arrow cursor over an element.\n",
       "\n",
       "Based on\n",
       "http://stackoverflow.com/questions/18779354/assign-color-to-mouse-cursor-using-css\n",
       "*/\n",
       "\n",
       "(function ($) {\n",
       "\n",
       "    $.fn.color_cursor = function(color) {\n",
       "        var that = this;\n",
       "        var cvs = document.createElement(\"canvas\");\n",
       "        cvs.height = 16;\n",
       "        cvs.width = 16;\n",
       "        var ctx = cvs.getContext(\"2d\");\n",
       "        ctx.strokeStyle = color;\n",
       "        ctx.lineWidth = 4;\n",
       "        ctx.lineCap = \"round\";\n",
       "        ctx.moveTo(2, 12);\n",
       "        ctx.lineTo(2, 2);\n",
       "        ctx.lineTo(12, 2);\n",
       "        ctx.moveTo(2, 2);\n",
       "        ctx.lineTo(30, 30)    \n",
       "        ctx.stroke();\n",
       "        var url = cvs.toDataURL();\n",
       "        that.css(\"cursor\", \"url(\" + url + '), auto');\n",
       "        return that;\n",
       "    };\n",
       "\n",
       "    $.fn.color_cursor_reset = function () {\n",
       "        this.css(\"cursor\", \"\");\n",
       "        return this;\n",
       "    };\n",
       "\n",
       "    $.fn.color_cursor.example = function (element) {\n",
       "        debugger;\n",
       "        var d = $(\"<div>Cursor should be red over me. Click to reset.</div>\")\n",
       "            .color_cursor(\"red\");\n",
       "        var reset = function() {\n",
       "            d.color_cursor_reset();\n",
       "            d.html(\"Now the cursor should be normal\");\n",
       "        }\n",
       "        d.click(reset);\n",
       "        element.append(d);\n",
       "        return element;\n",
       "    };\n",
       "\n",
       "})(jQuery)\n"
      ],
      "text/plain": [
       "<IPython.core.display.Javascript object>"
      ]
     },
     "metadata": {},
     "output_type": "display_data"
    }
   ],
   "source": [
    "# Uncomment to run without install (in binder, for example)\n",
    "import sys\n",
    "if \"..\" not in sys.path:\n",
    "    sys.path.append(\"..\")\n",
    "from jp_gene_viz import dNetwork\n",
    "dNetwork.load_javascript_support()\n",
    "from jp_gene_viz import multiple_network\n",
    "from jp_gene_viz import LExpression\n",
    "LExpression.load_javascript_support()\n",
    "# Part 1 of a hacky way to set color threshhold\n",
    "\n",
    "\n",
    "\n",
    "# Currently, we are not interested in visualizing motifs, and would need to find these files, if we did\n",
    "# from jp_gene_viz import motif_data\n",
    "# C = motif_data.MotifCollection()\n",
    "# # for extra safety \"rU\" reads with universal line ending support\n",
    "# C.read_meme_file(open(directory + '/' + \"mm9_em.meme\", \"rU\"))\n",
    "# C.read_meme_file(open(directory + '/' + \"hg19_em.meme\", \"rU\"))"
   ]
  },
  {
   "cell_type": "code",
   "execution_count": 3,
   "metadata": {
    "collapsed": false
   },
   "outputs": [
    {
     "name": "stdout",
     "output_type": "stream",
     "text": [
      "('Reading network', './DCs_ATAC_1701_cut4_2f_body_bp10000_pFDR10_FC1_gFDR10_FC1/DCs_pFDR10_FC1_gFDR10_FC1_rawp00001_hyg001/CD103p_sp.tsv')\n",
      "('Loading saved layout', './DCs_ATAC_1701_cut4_2f_body_bp10000_pFDR10_FC1_gFDR10_FC1/DCs_pFDR10_FC1_gFDR10_FC1_rawp00001_hyg001/CD103p_sp.tsv.layout.json')\n",
      "Omitting edges, using canvas, and fast layout default because the network is large\n",
      "('Reading network', './DCs_ATAC_1701_cut4_2f_body_bp10000_pFDR10_FC1_gFDR10_FC1/DCs_pFDR10_FC1_gFDR10_FC1_rawp00001_hyg001/CD11bmCD103m_sp.tsv')\n",
      "('Loading saved layout', './DCs_ATAC_1701_cut4_2f_body_bp10000_pFDR10_FC1_gFDR10_FC1/DCs_pFDR10_FC1_gFDR10_FC1_rawp00001_hyg001/CD11bmCD103m_sp.tsv.layout.json')\n",
      "Omitting edges, using canvas, and fast layout default because the network is large\n",
      "('Reading network', './DCs_ATAC_1701_cut4_2f_body_bp10000_pFDR10_FC1_gFDR10_FC1/DCs_pFDR10_FC1_gFDR10_FC1_rawp00001_hyg001/CD11bpCD103p_sp.tsv')\n",
      "('Loading saved layout', './DCs_ATAC_1701_cut4_2f_body_bp10000_pFDR10_FC1_gFDR10_FC1/DCs_pFDR10_FC1_gFDR10_FC1_rawp00001_hyg001/CD11bpCD103p_sp.tsv.layout.json')\n",
      "Omitting edges, using canvas, and fast layout default because the network is large\n",
      "('Reading network', './DCs_ATAC_1701_cut4_2f_body_bp10000_pFDR10_FC1_gFDR10_FC1/DCs_pFDR10_FC1_gFDR10_FC1_rawp00001_hyg001/CD11bp_sp.tsv')\n",
      "('Loading saved layout', './DCs_ATAC_1701_cut4_2f_body_bp10000_pFDR10_FC1_gFDR10_FC1/DCs_pFDR10_FC1_gFDR10_FC1_rawp00001_hyg001/CD11bp_sp.tsv.layout.json')\n",
      "Omitting edges, using canvas, and fast layout default because the network is large\n",
      "('Reading network', './DCs_ATAC_1701_cut4_2f_body_bp10000_pFDR10_FC1_gFDR10_FC1/DCs_pFDR10_FC1_gFDR10_FC1_rawp00001_hyg001/Macrophage_sp.tsv')\n",
      "('Loading saved layout', './DCs_ATAC_1701_cut4_2f_body_bp10000_pFDR10_FC1_gFDR10_FC1/DCs_pFDR10_FC1_gFDR10_FC1_rawp00001_hyg001/Macrophage_sp.tsv.layout.json')\n",
      "Omitting edges, using canvas, and fast layout default because the network is large\n",
      "('Reading network', './DCs_ATAC_1701_cut4_2f_body_bp10000_pFDR10_FC1_gFDR10_FC1/DCs_pFDR10_FC1_gFDR10_FC1_rawp00001_hyg001/Monocyte_sp.tsv')\n",
      "('Loading saved layout', './DCs_ATAC_1701_cut4_2f_body_bp10000_pFDR10_FC1_gFDR10_FC1/DCs_pFDR10_FC1_gFDR10_FC1_rawp00001_hyg001/Monocyte_sp.tsv.layout.json')\n",
      "Omitting edges, using canvas, and fast layout default because the network is large\n"
     ]
    }
   ],
   "source": [
    "networkList = list()  # this list contains heatmap-linked network objects\n",
    "\n",
    "for networkInit in networkInits:\n",
    "    networkFile = networkInit[0]\n",
    "    curr = LExpression.LinkedExpressionNetwork()    \n",
    "    try:\n",
    "        curr.load_network(directory + '/' + netPath + '/' + networkFile)    \n",
    "    except AssertionError:\n",
    "        directory = \".\"\n",
    "        curr.load_network(directory + '/' + netPath + '/' + networkFile)        \n",
    "    networkList.append(curr)"
   ]
  },
  {
   "cell_type": "code",
   "execution_count": 4,
   "metadata": {
    "collapsed": false
   },
   "outputs": [],
   "source": [
    "# visualize the networks -- HARD CODED for 5 networks:\n",
    "M = multiple_network.MultipleNetworks(\n",
    "    [[networkList[0], networkList[1]],\n",
    "    [networkList[2], networkList[3]],\n",
    "    [networkList[4], networkList[5]]])\n",
    "M.svg_width = 500\n",
    "M.show()      "
   ]
  },
  {
   "cell_type": "code",
   "execution_count": 5,
   "metadata": {
    "collapsed": false
   },
   "outputs": [],
   "source": [
    "# Set network preferences\n",
    "count = 0\n",
    "for curr in networkList:\n",
    "    networkInit = networkInits[count]\n",
    "    # get title information + curr column for shading of figures\n",
    "    currCol = networkInit[1]\n",
    "    titleBase = networkInit[2]\n",
    "    titleInf = titleBase #+ ' (gCut: ' + geneCutoff.replace('_',' ') + ', pCut: ' + peakCutoff.replace('_',' ')\n",
    "    \n",
    "    # set threshold\n",
    "    curr.network.threshhold_slider.value = threshhold\n",
    "    curr.network.apply_click(None)\n",
    "    if tfFocus:\n",
    "        # focus on TF core    \n",
    "        curr.network.tf_only_click(None)\n",
    "        curr.network.layout_click(None)  \n",
    "        \n",
    "    # set title\n",
    "    curr.network.title_html.value = titleInf\n",
    "\n",
    "    # add labels\n",
    "    curr.network.labels_button.value=True  \n",
    "    curr.network.draw_click(None)\n",
    "\n",
    "    # Load heatmap\n",
    "    curr.load_heatmap(directory + '/' + expressionFile)\n",
    "    # color nodes according to a sample column in the gene expression matrix\n",
    "    curr.gene_click(None)       \n",
    "    curr.expression.transform_dropdown.value = 'Z score'\n",
    "    curr.expression.apply_transform()\n",
    "    curr.expression.col = currCol    \n",
    "    curr.condition_click(None)\n",
    "    \n",
    "        #     # Attach the motif collection populated above:\n",
    "        #     N.motif_collection = C\n",
    "        #     net_with_motifs\n",
    "    \n",
    "    # !!!!! for some reason this doesn't work, tried curr.display... w/o curr.network.display...\n",
    "    # Part 2: a hacky way to set min and max on the heatmap and heatmap-colored nodes\n",
    "#     curr.network.display_graph.get_edge_color_interpolator()\n",
    "#     curr.network.display_graph._edge_color_interpolator.minclr = minclr\n",
    "#     curr.network.display_graph._edge_color_interpolator.maxclr = maxclr\n",
    "#     curr.network.display_graph._edge_color_interpolator.breakpoints = \\\n",
    "#         [(minvalue, minclr),\n",
    "#          (0, zeroclr),\n",
    "#          (maxvalue, maxclr)]\n",
    "#     curr.network.draw_click(None)\n",
    "    count += 1\n"
   ]
  },
  {
   "cell_type": "code",
   "execution_count": null,
   "metadata": {
    "collapsed": true
   },
   "outputs": [],
   "source": []
  },
  {
   "cell_type": "code",
   "execution_count": null,
   "metadata": {
    "collapsed": true
   },
   "outputs": [],
   "source": []
  }
 ],
 "metadata": {
  "anaconda-cloud": {},
  "kernelspec": {
   "display_name": "Python 2",
   "language": "python",
   "name": "python2"
  },
  "language_info": {
   "codemirror_mode": {
    "name": "ipython",
    "version": 2
   },
   "file_extension": ".py",
   "mimetype": "text/x-python",
   "name": "python",
   "nbconvert_exporter": "python",
   "pygments_lexer": "ipython2",
   "version": "2.7.11"
  },
  "widgets": {
   "state": {
    "0044af2078294551984eb2674cf835b5": {
     "views": []
    },
    "008414fd43324447b9a19fbc0b5001aa": {
     "views": []
    },
    "011f64e69af74133a2bc83f34e411e96": {
     "views": []
    },
    "014aaa5aa028440ca45e6177e4255413": {
     "views": []
    },
    "01cdc8ca34d34974a5a17c503b5f322c": {
     "views": []
    },
    "020ba9b192374263be665a2717497b50": {
     "views": []
    },
    "023570d7ce1049a2ac8930a1f3de5f23": {
     "views": []
    },
    "025b1cc7faa9406ea44a24a05f9bf56f": {
     "views": []
    },
    "02dbad98265c4c9cac57fdfdd40f91e8": {
     "views": []
    },
    "03731840d18e450fa4e9b90b7d24c517": {
     "views": []
    },
    "03becb140abb4f5b9703c113e18fe3ca": {
     "views": []
    },
    "03d4a277eafc4c66b433aed14056e34a": {
     "views": []
    },
    "0412c6c296f94200a919635d6f436b05": {
     "views": []
    },
    "043b628fa7364e4c8a6526e5c96bada8": {
     "views": []
    },
    "046749f1115147498268edd516681e9c": {
     "views": []
    },
    "0501eec73e5146009b5d67d134e56ed0": {
     "views": []
    },
    "053c52997b4e4f448d9ad564bb4c729d": {
     "views": []
    },
    "0542745bc1ab404382565abc97090340": {
     "views": []
    },
    "0557c352b1cf4241ba387c1be6a4d3b6": {
     "views": []
    },
    "0563d73ebc054681abbede3dabcb8b88": {
     "views": []
    },
    "057a0361f5a34a5880cd50930a7e782a": {
     "views": []
    },
    "05bd50166aa9406f8f428525120bc9a6": {
     "views": []
    },
    "05d5521278b74203abbba4433532adf8": {
     "views": []
    },
    "05fde03a13284f5da4859f165d52274b": {
     "views": []
    },
    "06288e68ec1a4d6ab4605e22a646e15d": {
     "views": []
    },
    "065cc427ce4741b09afb487aa7c0cb41": {
     "views": []
    },
    "06e49caaa2bc45588951dfd6351ddb37": {
     "views": []
    },
    "06f287c8b4fc4849b2d421cc843a4025": {
     "views": []
    },
    "0745375b69a245d2b5cf6667a45efbe3": {
     "views": []
    },
    "0753bb42d794448284fbd67dd8d475e8": {
     "views": []
    },
    "07bd5d99cfe44d98944746d58f0009b5": {
     "views": []
    },
    "07ef8a959bbd43d79552e3e758be49db": {
     "views": []
    },
    "080394d2c860464088a790d6a0f4aa67": {
     "views": []
    },
    "0844f514ede94975803f168e0f60619a": {
     "views": []
    },
    "084b0a21269a41a0b79db184c8786919": {
     "views": []
    },
    "0864d45b88bf4520a030c631c0d4e456": {
     "views": []
    },
    "0875510017434e05bf3f0d276d35d72c": {
     "views": []
    },
    "089757b03a6d4fc6bee2b217d9d79844": {
     "views": []
    },
    "08b034081b614162b100828b849933eb": {
     "views": []
    },
    "08f92cfbaba5443c9fa35b9734009c6e": {
     "views": []
    },
    "08fb4a4559ab485496832add8b00dc56": {
     "views": []
    },
    "094db97f0b214eafa219c0e942b049bb": {
     "views": []
    },
    "09631106a7f240939eeb721482efcfbb": {
     "views": []
    },
    "09757587e8864cd5acf8c2eed2a6162e": {
     "views": []
    },
    "09b959baed8041b8a4c443679528f2ed": {
     "views": []
    },
    "09d34bea2d6747b8b4113b4d91164122": {
     "views": []
    },
    "09d50efcec744b12873e52223ddd6d02": {
     "views": []
    },
    "0a36790df97744e9a7652c269cf675e5": {
     "views": []
    },
    "0ad292e59b8646158abf004fadca0f0d": {
     "views": []
    },
    "0ad90f604f8f4d32b3e17ea429fb411b": {
     "views": []
    },
    "0ae38e8d25074c3fb9f37fa126b78dc9": {
     "views": []
    },
    "0ba07398dcd143e7878152435ff028ef": {
     "views": []
    },
    "0ba1bfe7773b479d98eb3e6ffcfb2428": {
     "views": []
    },
    "0bb7337808be454fa1aba480457515ab": {
     "views": []
    },
    "0bf07c9d12134c7c9de870745a4dd4b4": {
     "views": []
    },
    "0c065f0cb76247cfbf8974ebc0373bb9": {
     "views": []
    },
    "0c1d7cf231c94f4dbaa3267faa44a70c": {
     "views": []
    },
    "0c27cd15d8364545b95d9038877fd1a2": {
     "views": []
    },
    "0c7fa2b005f447b6a4c35bc5344431b8": {
     "views": []
    },
    "0c9e2d03531540628d3a00cfa625e2a5": {
     "views": []
    },
    "0c9ee96b6eee40fea11b4fd780ae40fd": {
     "views": []
    },
    "0cdcb5d850a541e7a8307c3e71b3dd7c": {
     "views": []
    },
    "0d4786ad871d4adf9fdfa2e4839da5b3": {
     "views": []
    },
    "0d6188c16fca4e3fae51449b10e9f91a": {
     "views": []
    },
    "0d745af4e20a421ea76952c9a3a8f1c3": {
     "views": []
    },
    "0db24402a93843f9af6701f6038c212c": {
     "views": []
    },
    "0e18469adb934b619c1b7d02b4d1d35b": {
     "views": []
    },
    "0e47092dbe5847e6b43788b77e0ec9d9": {
     "views": []
    },
    "0f7afc64726c41edaf84c9d39337b77f": {
     "views": []
    },
    "0f871fa9037e4a89aecdfb182c1dc108": {
     "views": []
    },
    "0f9990db018143439e022fa0917f0f0a": {
     "views": []
    },
    "0fe9d6875f564f0486c3b1c5c633b6fb": {
     "views": []
    },
    "103e3b3924414b979b07d2889fe00e31": {
     "views": []
    },
    "10626eb6a97541d9b633a506de33985a": {
     "views": []
    },
    "1114e42d9c8b4147a94bf13dc0645979": {
     "views": []
    },
    "1184631e52f447f8aebaea89e5cde63e": {
     "views": []
    },
    "11855711a1094df2a591cbd6146d5e56": {
     "views": []
    },
    "11bac10b00e3450ca3fa4c846dc27a2c": {
     "views": []
    },
    "11f1a752e3bb42cc99a1fe62159a6d4a": {
     "views": []
    },
    "11f34733535f4a4bad1a72d1e87a8a89": {
     "views": []
    },
    "12846bd4d99e4b4c9f9f819a24e70ee3": {
     "views": []
    },
    "12d7be6b165644f199c0dde06d6f193a": {
     "views": []
    },
    "12ebebbf47a749ae8707fa1529bc2a37": {
     "views": []
    },
    "13242152951d474aa6e4fd36d7b56410": {
     "views": []
    },
    "1324ac6069674b51b6de0b0398c22c09": {
     "views": []
    },
    "1340c033ac9f4751a91d0c9c04fcba47": {
     "views": []
    },
    "13413a2a80784735afced9401837f2d1": {
     "views": []
    },
    "135ae864288d4c108e86828a65e5310d": {
     "views": []
    },
    "13932da99ce94ba696299235cd0d973f": {
     "views": []
    },
    "13b88a4b56124c1ba62180b3069d4d70": {
     "views": []
    },
    "1421181ec7f64d0ebb52feeefd6cffc3": {
     "views": []
    },
    "146d73e26c1849edaea70f6b98bc2dde": {
     "views": []
    },
    "14cd4e3bc813453a9be0dbe739a0c885": {
     "views": []
    },
    "1570b9df2a1c486da8a255b65c352d5d": {
     "views": []
    },
    "1577c5d2e065479d96d4c16ff3ef6706": {
     "views": []
    },
    "15db86ffc6864fb888bbe1afd4895620": {
     "views": []
    },
    "15ec8055e5ae4a08929d87d78495a6a5": {
     "views": []
    },
    "15ed4b166eec43569de47297ab0d68b6": {
     "views": []
    },
    "15ef4d5b1d024bd690a70617ee87bc76": {
     "views": []
    },
    "165a0fafa07b4046bab0226478865673": {
     "views": []
    },
    "166801a0447b492883c8bc52d3f50886": {
     "views": []
    },
    "16bd470db7b348daa430b5b8855aaa43": {
     "views": []
    },
    "1740871258544913afbf6d28b04aab37": {
     "views": []
    },
    "178723a12def48d9b1a5c387d97fdd52": {
     "views": []
    },
    "17b8a2f3ef074e16ae56f69fc31ad17a": {
     "views": []
    },
    "17c0e3bb62fe4aa58f61cdf61bd50c7b": {
     "views": []
    },
    "17c1ff9e57894fe08d5cfbda8a60d33a": {
     "views": []
    },
    "181f517b58864153a5f8d6b5be70d325": {
     "views": []
    },
    "182f02ceea664bfda0598923031ebd21": {
     "views": []
    },
    "18c1dff674724f9db478f64bb2fad4ce": {
     "views": []
    },
    "18e3732f0142479297862c01e11fb05f": {
     "views": []
    },
    "1935dfb56929465db1ba5a23b58ed85d": {
     "views": []
    },
    "19707ed5c21645fe9119d14cf108ce33": {
     "views": []
    },
    "197a8fc743a04fe5ae8184f8bd7ba36c": {
     "views": []
    },
    "199ec138f6b64cb6abf7070a942343cc": {
     "views": []
    },
    "19a38df173cb43ecab9cabbd39724d54": {
     "views": []
    },
    "19d566d29fe14c9c818d015e5c80590a": {
     "views": []
    },
    "1a0c1efd12504bd1b69c4ce8028f86b7": {
     "views": []
    },
    "1a832ddc92b7493cb6992793910a00c1": {
     "views": []
    },
    "1ac8c1b0cdf64437b9d1c36b085dd808": {
     "views": []
    },
    "1aeec99e4a984ef6abd30238f3026d3b": {
     "views": []
    },
    "1b7475d65c964775a39a1790450c39a5": {
     "views": []
    },
    "1b8be1f65ab54c7ab6f35a7444d313eb": {
     "views": []
    },
    "1bee09d3d9cf480c83c2d19440a1ad91": {
     "views": []
    },
    "1c134011f8314638aa8a5f52c81836d2": {
     "views": []
    },
    "1cd681fe330b4c72abd357f79e62044e": {
     "views": []
    },
    "1cddf6e7a7264029bbd484665246de85": {
     "views": []
    },
    "1d17a62c9b65445d81612fdeba7570ac": {
     "views": []
    },
    "1d2cfe5f1304486a868e509f56851044": {
     "views": []
    },
    "1d3b68f88ab84cf4a2a0741ce0a9af58": {
     "views": []
    },
    "1d7445c7de294558b8047e015a91cbd4": {
     "views": []
    },
    "1d78524180ab4acb910c06689293bec2": {
     "views": []
    },
    "1dfcfaa9ce3445a394200dbf33156cc6": {
     "views": []
    },
    "1e515ac7f599410caa4106ce27bf110c": {
     "views": []
    },
    "1fcbf5c257e741ae86047af1bcbb6f3b": {
     "views": []
    },
    "1fcea6a110ca458db9e3ff823995b1aa": {
     "views": []
    },
    "201ab1a06eff41619e7ae9ca456c268c": {
     "views": []
    },
    "2024dd001b8d4943abf792790d63f66c": {
     "views": []
    },
    "2055ba4d61da4f269e17e6abbffa874b": {
     "views": []
    },
    "205b98a21bb14c128167d955e4b37621": {
     "views": []
    },
    "20ddfe6621ee4142be853b178239534b": {
     "views": []
    },
    "2129cb60bb164009a4262148af612d1b": {
     "views": []
    },
    "216864d62563427fb4246899b5090fea": {
     "views": []
    },
    "21af6ff8a8ca49bfb2ea988ea4f60d3d": {
     "views": []
    },
    "224fb0b853084ba3baf5b9869485c78c": {
     "views": []
    },
    "225e637074e8492f95d46afb3f50903e": {
     "views": []
    },
    "2283a5649841458e8a25bac4beccd088": {
     "views": []
    },
    "22ac9015d7dd4c468832d5aa3ddee20f": {
     "views": []
    },
    "22b5cb06c49d44deb10d69aa165cfca5": {
     "views": []
    },
    "22c22345221941ef88a7891985005360": {
     "views": []
    },
    "232f27c6e66c4414aaabf9b76edcd305": {
     "views": []
    },
    "2371fe6d3a814253912d64db41c2d3af": {
     "views": []
    },
    "237fce4c755347d4ad13012b0792e6c1": {
     "views": []
    },
    "2406d80071774773ba19ff8fdf07a053": {
     "views": []
    },
    "247eae118f5c4d17b02c41ca897ab6dd": {
     "views": []
    },
    "24eb575a9cfa4832a556c8a793d15fa6": {
     "views": []
    },
    "254cb98105f64042bb8bf2380be5a7ab": {
     "views": []
    },
    "2597539111174c9a800ab366a3ffe6e2": {
     "views": []
    },
    "25c92f2f6ae64d0386b4badb20e8c539": {
     "views": []
    },
    "25cc329a3b4b4f6188189561606ad8dc": {
     "views": []
    },
    "25dfb5c8223e499da92d8f8046975703": {
     "views": []
    },
    "25e84657e1ca4f44aa8a4629b697f4a0": {
     "views": []
    },
    "2604d4eac5ce40de83fbbecd6dbf036b": {
     "views": []
    },
    "260920f80af7463d9e42e12547f8d4b3": {
     "views": []
    },
    "262c2188d6414c4ca52f41907658432d": {
     "views": []
    },
    "26cb35a2eb954883ae6f785e75f6c821": {
     "views": []
    },
    "26f6f8f4da174997b4f00d8a36ff91eb": {
     "views": []
    },
    "270db121931240d1ae4f259b401bb043": {
     "views": []
    },
    "271be56dd24c495fa078589f449d44f2": {
     "views": []
    },
    "2776875d9ba84032ad640d125ec35d63": {
     "views": []
    },
    "27db2b8fc95948698b331df381d69ee8": {
     "views": []
    },
    "27f9086c422945e585de9c967a8c7311": {
     "views": []
    },
    "282cec19d6ba409cb41abb757cc01d46": {
     "views": []
    },
    "283d1b53ea9a4ccc9a11a9ec810a6dfb": {
     "views": []
    },
    "2877569099094f6a9a3c75643fbf9126": {
     "views": []
    },
    "28a6a4ba9c8a4fe68e6130ea144285d4": {
     "views": []
    },
    "28e830e3857641a1a2f2b3dde2bb866f": {
     "views": []
    },
    "294904f3323049698c74e34180bf2056": {
     "views": []
    },
    "297199e7701f44228a86f724baa6af1b": {
     "views": []
    },
    "29d723c695334caf831db15d14a4c116": {
     "views": []
    },
    "29f4fdcde8864561ab648e5ea6d2d263": {
     "views": []
    },
    "2a64a53df3794385834e8acb365d021d": {
     "views": []
    },
    "2ab49b5aab6e4c7a8ae3872adf8f788b": {
     "views": []
    },
    "2b1a491da66c46a090c4cc9363bda576": {
     "views": []
    },
    "2b44463d9f96407cb730f8dd10f17de3": {
     "views": []
    },
    "2b66fce7cf1244179de6be188b7050a8": {
     "views": []
    },
    "2b7d8e80187b420aab00a37883a39844": {
     "views": []
    },
    "2ba36632dbd649d8b1105e582b4c811f": {
     "views": []
    },
    "2bac00ec9955467285f8c1cdf0d76633": {
     "views": []
    },
    "2bdeed574a0d477a8cd33f6fdfe2132f": {
     "views": []
    },
    "2bf0915598054902bf012f8e87270a0c": {
     "views": []
    },
    "2c1d3d32d1a14906a94980d3d5552722": {
     "views": []
    },
    "2c24dc337d994f788738b45bc89f8665": {
     "views": []
    },
    "2c2f541fc59b4eda99ff9c8c04d493ba": {
     "views": []
    },
    "2c518005fd7d453cb872b81d42b58953": {
     "views": []
    },
    "2c5f99d4da7042bdb659d92bcbae3f54": {
     "views": []
    },
    "2c6ba958d5a44d5dba11ee04e2433528": {
     "views": []
    },
    "2c966b16dd8c4dcd828c222b6985f1cd": {
     "views": []
    },
    "2cb6798fc4d64f659fa5d1362738ea1a": {
     "views": []
    },
    "2ce9378192d549bdafbbf2dbafef4c58": {
     "views": []
    },
    "2ceb701322064f1eb81df9ca6fedc096": {
     "views": []
    },
    "2d01c5ac353448b5a1634871d83579cb": {
     "views": []
    },
    "2d0502593cc14f9b8c5310eeeff055d7": {
     "views": []
    },
    "2d2696966c124cfb941227704102d37a": {
     "views": []
    },
    "2d9c23d7e9b14b9c88ceefcb60eccf22": {
     "views": []
    },
    "2dbd09a3e62b42f9ba7bbcef688fa587": {
     "views": []
    },
    "2dc9cf96da1c4cf29cbd17195fcb0ce8": {
     "views": []
    },
    "2e0c467ab653490daa2dc76f80383818": {
     "views": []
    },
    "2e1ecb6ed01f4de1b00a493e1e58665e": {
     "views": []
    },
    "2e4e00bdf0a148ee9a91c4306dcc7b33": {
     "views": []
    },
    "2e7d49ebe23f497595178c566ed7806a": {
     "views": []
    },
    "2e834b9f38534a80b95b674d1a158031": {
     "views": []
    },
    "2ea07b10731a423f88160a389ec425e0": {
     "views": []
    },
    "2f062260b599431598ce3b4b99213012": {
     "views": []
    },
    "2fa50ef5715a40a490ae212406917c43": {
     "views": []
    },
    "2fa94f3c97384bdd9a0c2ded13007058": {
     "views": []
    },
    "2fae3fe8b07b429ca8e938683cda7005": {
     "views": []
    },
    "2fbc392aa57b48f1a3316b8615f537c1": {
     "views": []
    },
    "2fc3f6c137044e90b27b64bdee552078": {
     "views": []
    },
    "3074b30313e24912b6c990cb0e39c41a": {
     "views": []
    },
    "307642c4c4a94287b760c94a34d96928": {
     "views": []
    },
    "3088bc89053f472fbd5a84543f56331b": {
     "views": []
    },
    "308aa0e4c585434586cd11b145549bfc": {
     "views": []
    },
    "309143c7c2344cbda9aa8f25b04542e8": {
     "views": []
    },
    "30b140f1b40c405380be9055651d88c5": {
     "views": []
    },
    "30c07f8eee98450fb4b6735b9a3eb252": {
     "views": []
    },
    "3114c303e899496d8231bf655c463fe1": {
     "views": []
    },
    "318ee11492304106ae0f30c2cba5f55b": {
     "views": []
    },
    "31ce4e3a59244d5fa08393028da96ae4": {
     "views": []
    },
    "31d43b42639547d2a127de72ac58400c": {
     "views": []
    },
    "32286891bc4e4c8893042b4b79613d1a": {
     "views": []
    },
    "32544aacfcf14a08815780991017dc6a": {
     "views": []
    },
    "3355a44c642747059a8c7676a27bd61e": {
     "views": []
    },
    "33a6ca97cccf4b6ebee41c0ab9886a0a": {
     "views": []
    },
    "33afece1d0524222be3c5c490112fdc8": {
     "views": []
    },
    "33bc40723a214235bbafc4b722c971e6": {
     "views": []
    },
    "33e5b3b7b3a74ae0ae26f907edc43356": {
     "views": []
    },
    "34453104d58149c68e0c65c411586910": {
     "views": []
    },
    "344a541b6d6c4958831c2a2c2bec25a1": {
     "views": []
    },
    "348c6bcb49934b7db8ae7164bdb88def": {
     "views": []
    },
    "34b41009650c4c56a725a217a4175963": {
     "views": []
    },
    "34bb2e4135c24503bdf03aa8b8873953": {
     "views": []
    },
    "35178cd772134cc3a393ed896696ec06": {
     "views": []
    },
    "355deb18720e4fd69bd27abbe6c40422": {
     "views": []
    },
    "357853e65fd24c8a9c8fce37a233ee65": {
     "views": []
    },
    "35b4b29c89b74852a789bb1e17f37c10": {
     "views": []
    },
    "35be5917044a440fb4e550a6125ec817": {
     "views": []
    },
    "35e66707640e4dfca56180c84b4d3c00": {
     "views": []
    },
    "360810cb8a0749a38e11d8f6fc488385": {
     "views": []
    },
    "362622f9c7a0401b9e6a13a7b51d3c99": {
     "views": []
    },
    "3656ad7baadf41c59c664d85bc70344a": {
     "views": []
    },
    "36b37dd313aa4d37af5d4894624713db": {
     "views": []
    },
    "36c70f7219a64833a0741786a5242d95": {
     "views": []
    },
    "36d82c831fa34fb1b9ba458e029f8f55": {
     "views": []
    },
    "372ea2710ca64ce3808a89defa62d496": {
     "views": []
    },
    "37ad770b867e40949fb4014f5a5d4427": {
     "views": []
    },
    "37ada54edbe84f539675f102294012c3": {
     "views": []
    },
    "37b2b8e5a10c4e36b8b721a6d33a3e35": {
     "views": []
    },
    "37cac934e2f043cfb5debc6bda769e0b": {
     "views": []
    },
    "382bb0257d5c49e583224cb17fbe93fb": {
     "views": []
    },
    "383b0e9dcb7b419fb3f64c682fdbaa47": {
     "views": []
    },
    "389eca126d2b4bdcb1677c537c8c7051": {
     "views": []
    },
    "38bafc39292e40b39263c572401634fc": {
     "views": []
    },
    "38d79ba7e80346fd9665086c2d360b17": {
     "views": []
    },
    "396a4f0ed99547ddaec07045488f5696": {
     "views": []
    },
    "397cce5ed6e549778246e6661c5ff381": {
     "views": []
    },
    "39f1f161b516463db079a5e5165f0a3a": {
     "views": []
    },
    "39f43872f5e345529817597fb4f7a6f1": {
     "views": []
    },
    "3a49a14ac6a44f49848effbc2dcae2cb": {
     "views": []
    },
    "3acf48b745444dafb39b95ffd2adf1d7": {
     "views": []
    },
    "3b2a80964ae34b079d9df8822cad18b0": {
     "views": []
    },
    "3b5593f176724e9596bdb9104b13043a": {
     "views": []
    },
    "3b89c0a875a340088353c15865c8a161": {
     "views": []
    },
    "3bc0278835514349bafa227cd86d382c": {
     "views": []
    },
    "3c1f29d5f92547de95563b77e58b5745": {
     "views": []
    },
    "3c3ea9331da944fdbcc80c9fa4b272df": {
     "views": []
    },
    "3caca1e4fda5426ea86670072080d5a9": {
     "views": []
    },
    "3cacf04d4f1845be9372f8bc2761ebe0": {
     "views": []
    },
    "3cd30b870ced4f4e9a5e8f8514397848": {
     "views": []
    },
    "3d79af401ab143e3b050b785f04b9f2a": {
     "views": []
    },
    "3d90c57e8c9b4c0e95a6364bff8cf6bf": {
     "views": []
    },
    "3d91808dfd5448de9f9326eb394270d9": {
     "views": []
    },
    "3d9d6b1773b141afadda5d2feda4da00": {
     "views": []
    },
    "3daee26b007e4da29715f898fcc418c8": {
     "views": []
    },
    "3dc66cb605514b2ba0d6641b8333093b": {
     "views": []
    },
    "3e122bd028fd440b9f8f3dd3e09b8757": {
     "views": []
    },
    "3eb5a276491e48b08a3e94a1c80687ae": {
     "views": []
    },
    "3ef7391011374be78b38e1c301cd75a4": {
     "views": []
    },
    "3f1890822157489cb1a37f9dd9a51a42": {
     "views": []
    },
    "3f720873d55f4a56872f9fa3cf0247d4": {
     "views": []
    },
    "3f907f602ae449998f1225090d1b0cde": {
     "views": []
    },
    "3fbf9c29e5154b539866947af570ca01": {
     "views": []
    },
    "3fc140f9c8104f7c927eb2a0f3624f2a": {
     "views": []
    },
    "3fc5a4d85e78418e9b025d1315f7ed3a": {
     "views": []
    },
    "4040d4952e804de39036e4c0f33ef14c": {
     "views": []
    },
    "4051c84dc8ca4197b2ba886a2ec81c6d": {
     "views": []
    },
    "4070889be9b34fca9218bb17d89f7641": {
     "views": []
    },
    "412d1e754925484f8c0b73fedf3422e7": {
     "views": []
    },
    "4162ef8af85c47b1a7e7dc3298af03ad": {
     "views": []
    },
    "416566105faa4f20b289ef08ae9f8c5e": {
     "views": []
    },
    "4198db777df14b93bd055414705397aa": {
     "views": []
    },
    "4269abf640e6469298197d2385dfdd8c": {
     "views": []
    },
    "42a1789b333e46948344509a17021dff": {
     "views": []
    },
    "42c44d8e2b7f41288bd7ff44cc2bd98f": {
     "views": []
    },
    "42c4a170e9a04eb5a3eaefbc64604e66": {
     "views": []
    },
    "43328f0916c946cabcd405cd3811f0ad": {
     "views": []
    },
    "436546f8d52b495f849301eaae952bb4": {
     "views": []
    },
    "437ca7014c6c457b8ee0e883bb41106d": {
     "views": []
    },
    "439c437faec444dbb6b56615f6a9fd76": {
     "views": []
    },
    "43c5d7c42fca4087a22da78dbb78260f": {
     "views": []
    },
    "441690ef88824c2cad6e4968a5a69e68": {
     "views": []
    },
    "4451c216a4fb4ac5b326c4956ba766dd": {
     "views": []
    },
    "446e355b55ee40e3b1ca6cf5b34d2495": {
     "views": []
    },
    "447155d98e5e40c28d9f408d918f4037": {
     "views": []
    },
    "4477859c2efc4daab9501d7d1c9e9371": {
     "views": []
    },
    "44aa0c9617c649bab3bbfb3ce65eae2b": {
     "views": []
    },
    "44c3374d419845eea16aa9cb173f3ca8": {
     "views": []
    },
    "44cd24beda6c4f7eb44c511705eb722e": {
     "views": []
    },
    "4531ae401538424798ebe2dd286a891f": {
     "views": []
    },
    "45764c08143343b590f07b0b21e0770f": {
     "views": []
    },
    "459dd020fde643c5b29ce609d6916ae9": {
     "views": []
    },
    "466ab574fa81453a985e772182fe6dc2": {
     "views": []
    },
    "466ef91d17ba4872b47bd5a23ffd34b9": {
     "views": []
    },
    "46726e9d97bc4773b0f5a4ec084dc74c": {
     "views": []
    },
    "46ddc459499e4a4992a61e718e7cd346": {
     "views": []
    },
    "46f3d7cd44094fed9de0a7cbb062ead7": {
     "views": []
    },
    "47436241f7dd4da0ace583b7b41e4223": {
     "views": []
    },
    "4753a4ec10c14974b353a7d7f4a000a3": {
     "views": []
    },
    "475d8c21571744ea8a7ab9baf7abcf9e": {
     "views": []
    },
    "47819a71326f444ca17834c4e26ec1e2": {
     "views": []
    },
    "479429d9573046de8326839b2b3cd9dc": {
     "views": []
    },
    "47e84c9d389b431d8d283d4581b13e9f": {
     "views": []
    },
    "47f6b32c64404856a3a833885302bc7e": {
     "views": []
    },
    "480b8abdde3c46d2af0b37d2aae97b80": {
     "views": []
    },
    "4848417a1dc048d783261a8c00c3c95e": {
     "views": []
    },
    "48d1a8091227456a865289ca6ab90ccd": {
     "views": []
    },
    "4935531be95a499c8d21df303e9ec5ca": {
     "views": []
    },
    "49631de8c56e4978af8861bb67c6afba": {
     "views": []
    },
    "4978c65dd07b482f851e71b1aaed3031": {
     "views": []
    },
    "4988c1b3d94c4e5789b144e76304568a": {
     "views": []
    },
    "49996ad488bc4d4dba4b5826f1f42bba": {
     "views": []
    },
    "499fff5523db43db9ea31ba7518fdbe8": {
     "views": []
    },
    "49e21c1d90c2429f9552ac75f568a0ee": {
     "views": []
    },
    "4a347c24d0b14d629507bb75d5bec773": {
     "views": []
    },
    "4a3579ae21574fb08dcc0be46adbb947": {
     "views": []
    },
    "4af0f8fcdad2425183b85e1a7e3e8dd5": {
     "views": []
    },
    "4b0f5caab82949408dfad0955db2cdf9": {
     "views": []
    },
    "4b9dab9e613d4622840b96c3bc4805fd": {
     "views": []
    },
    "4ba039a0ea0d43fdbd20e236550355eb": {
     "views": []
    },
    "4bfafc9d50b64705afca846c32e30c36": {
     "views": []
    },
    "4c5c41d221574ca282d569bc5b0ade59": {
     "views": []
    },
    "4c886c0f765445f5bbf104b8b58709e4": {
     "views": []
    },
    "4cfd82cea76147efb184eb7818bca98e": {
     "views": []
    },
    "4d450047c07b48a788d5384a6accfe37": {
     "views": []
    },
    "4d4c24c1c5e94025beec556b6d4a5e8d": {
     "views": []
    },
    "4d95aedf6288403b8b55bc4f83a9a543": {
     "views": []
    },
    "4d9d52bc245a408da5a0a1589e4ac418": {
     "views": []
    },
    "4dab9a73554841f9a962a9d7b7be30d2": {
     "views": []
    },
    "4dbfad98f9244c038222c88fad707279": {
     "views": []
    },
    "4dd1b157ed074c86b5846f797491427a": {
     "views": []
    },
    "4e1c674560b844a692cc01afde7f32a1": {
     "views": []
    },
    "4e5742e9d70e4751b4266efecff637fe": {
     "views": []
    },
    "4e87e008f5bb47739b27f8ff4f153c04": {
     "views": []
    },
    "4e98b7ca90e248149c8095c99ac24799": {
     "views": []
    },
    "4ed3159803804b5b9ad5aae0c62d445b": {
     "views": []
    },
    "4eed67dec12642fb9b2deb66f0948c71": {
     "views": []
    },
    "4f453706946b41779e2b3e9ef12ec0c8": {
     "views": []
    },
    "4f5650218ca64d3d9cf9e6381ff5c602": {
     "views": []
    },
    "4f6bc58c887f46f2bc14d00415da587d": {
     "views": []
    },
    "4f8609b45c834d20a52734abeb19f52b": {
     "views": []
    },
    "4fbfde7eff624112b68f4c51b55bfc99": {
     "views": []
    },
    "4fef043ed7dd44f9b08429e5be264325": {
     "views": []
    },
    "4ff5c0462fa34b468430cab4690b5e92": {
     "views": []
    },
    "4ffd985dd5584f9ab0c6e6396654525d": {
     "views": []
    },
    "4fffd4db629e49519577bf3b0532d28d": {
     "views": []
    },
    "501172b1f64a4dfe8c9b91f8266370b6": {
     "views": []
    },
    "502acfd204f54e4ebd6c2bfa8964b128": {
     "views": []
    },
    "504b0f6bc5cf4b0a99bdfe77a31fe909": {
     "views": []
    },
    "5062ac8167a942a3a01e707a09084677": {
     "views": []
    },
    "509e7a543d7e4632b55ad284181811f0": {
     "views": []
    },
    "50f34318d35441a7af322f964cc0af13": {
     "views": []
    },
    "5113a20be5a14e2ea310415843b9195e": {
     "views": []
    },
    "51691623f6e5464eabe86cd3c3492515": {
     "views": []
    },
    "5191930f587941e390c71ca0ae1cdccb": {
     "views": []
    },
    "5220a7c5de9642e59f3c4f2874f64abc": {
     "views": []
    },
    "523bfbab2e684f3492a7cdf254b18597": {
     "views": []
    },
    "5252554e77ec43478974dffee63307d7": {
     "views": []
    },
    "525a3e1b1a1b4af39f5d11ad2e26878e": {
     "views": []
    },
    "525fc3e71c294b63bce09216da9a7063": {
     "views": []
    },
    "52c0a35bb6c54c908575bfa325fd50eb": {
     "views": []
    },
    "53428b41f4ef419d8b0b0ca57973448f": {
     "views": []
    },
    "536df809fb9a48b8b9679296a29471c4": {
     "views": []
    },
    "538244185457411da480a98ce8bd0a91": {
     "views": []
    },
    "53c55afb9a77432ca7e3a81241ec2f1f": {
     "views": []
    },
    "53f9a1fd21534a9fa2a4faff33ea615c": {
     "views": []
    },
    "5420c89e46e94f43bfe482909aa453f1": {
     "views": []
    },
    "54420d9bdb5d49e3a42804c738be85e7": {
     "views": []
    },
    "5487e68283ec437784d70eeea98b985f": {
     "views": []
    },
    "5503627fa3474ff8bcb50c995ecc2b20": {
     "views": []
    },
    "5565630ac48e422f9c761c2e9fb4ba82": {
     "views": []
    },
    "559df640ad1e4e3199b866fc5e3b2d31": {
     "views": []
    },
    "55b5bfba5fdb4032be7d64f2e89b52c1": {
     "views": []
    },
    "55e35843494b46a4965d2a8a88da5df2": {
     "views": []
    },
    "55fda2bcf9e94c9d9b86d2baefb0c680": {
     "views": []
    },
    "55ff0028beda4752b65032592b5b3831": {
     "views": []
    },
    "56162ab479a94489935bcf5dd12c22cc": {
     "views": []
    },
    "5641a7d2acbb497dbe672272c4852559": {
     "views": []
    },
    "5688651647484bbe87daacb2436a8c58": {
     "views": []
    },
    "569a77be8ec9406d9455cb8be3e67875": {
     "views": []
    },
    "56a448bde032451da0d0405281dc67bc": {
     "views": []
    },
    "56da5b6a83844dc0a04edc92ba8f11ac": {
     "views": []
    },
    "56ed1589d7a142baaabc04b9b77ded65": {
     "views": []
    },
    "5727b085496540cbb08dda22a7c420ed": {
     "views": []
    },
    "5789a0518ef44dce86a9d70e141c70a5": {
     "views": []
    },
    "578c45139b864a10a3409f38b8515d04": {
     "views": []
    },
    "5823aabccb6542da803857f4fe5abf0c": {
     "views": []
    },
    "582e385cf8fe41c3bcc27f8dfa49ab87": {
     "views": []
    },
    "58aa5c34ecdd4aafbed6d877f041e32d": {
     "views": []
    },
    "58bee23299e2463c8126e2aafca1ac29": {
     "views": []
    },
    "58cc9815c7f54f36b31e20998b2541b4": {
     "views": []
    },
    "5911c5ad10af4ab5b0e7414286362292": {
     "views": []
    },
    "5919ab795f3448b8a4f22312dcb43d17": {
     "views": []
    },
    "5924f67fc5634d6fa78aefb38ddf00b4": {
     "views": []
    },
    "593167ad9c1f40148eb917e4c6bae8bc": {
     "views": []
    },
    "593264d74c6f4147b1be9efab3983b5e": {
     "views": []
    },
    "59548ebbd598495fbdd23e0e13e0404c": {
     "views": []
    },
    "5984be37a177420baa0be8eab3d55ef5": {
     "views": []
    },
    "59c9f28c778a4a9a915e77d05e61c846": {
     "views": []
    },
    "5a6777d2624943ac91cc06c4450e7938": {
     "views": []
    },
    "5a6b9839089d4a95b932b732488e061b": {
     "views": []
    },
    "5b08aff3b88a4cd883720bc85d34b1c6": {
     "views": []
    },
    "5b0e31d2726e44269efa9c61d3767e9b": {
     "views": []
    },
    "5bbb8fa250634aa9bf6af188338da664": {
     "views": []
    },
    "5bdf707e91bf41b983236d4be8bfdad8": {
     "views": []
    },
    "5c753821a8fb473f9bc24a5f92792c7b": {
     "views": []
    },
    "5cdfa229aad44538971ad302bc024b08": {
     "views": []
    },
    "5ce28dc4c06a4d59aa44c69acc0e696e": {
     "views": []
    },
    "5cf16a67783641edb07426abd6e2e28e": {
     "views": []
    },
    "5cf582d109134f489a1f0dfbabe78de1": {
     "views": []
    },
    "5d0ff1cb502d402fb1a60d6a50903420": {
     "views": []
    },
    "5da899dc15474da4b80520f5967e3cfd": {
     "views": []
    },
    "5de507ad968647f8a1de2fea47af2a8a": {
     "views": []
    },
    "5de8b7a678654b6dae294ce10f083c4f": {
     "views": []
    },
    "5e0fd29ed8e94874a1819d933d38203a": {
     "views": []
    },
    "5e6d429357cf4d1799ed59ccc60514f7": {
     "views": []
    },
    "5edf6d4d8184451c81b4ce70116008f2": {
     "views": []
    },
    "5f1e9a3886644daa87a2bae2a9e6db31": {
     "views": []
    },
    "5f23032014274a39b26b7a76aec00f21": {
     "views": []
    },
    "5f5266a29c914180ac514dfefb8c2fc1": {
     "views": []
    },
    "5f64203f15204eccb498f1d2074b75c9": {
     "views": []
    },
    "60bed33f38d84ed693c07a8c7d4367c9": {
     "views": []
    },
    "60d980ef7afc41ed93c80102921e746a": {
     "views": []
    },
    "60dd5b82f4784f46b72a1db52e781c6c": {
     "views": []
    },
    "6139dccdc0a04fbfb8da5c6ade9020b3": {
     "views": []
    },
    "61477d127bd045f8b9a457315224050c": {
     "views": []
    },
    "618820431dac49038f9194b926c9e1b4": {
     "views": []
    },
    "61978581fc7344329388494781d4ceb1": {
     "views": []
    },
    "619f1e52b18845e4a16c27108ac0b787": {
     "views": []
    },
    "61a8963cc7bd4555bb2e57af601c1b03": {
     "views": []
    },
    "61c7f8e573e54fcdb301c3272161ffff": {
     "views": []
    },
    "623c5feecdcb46c99fa284b59c1c2a96": {
     "views": []
    },
    "62647c9c89534fc28ecc57e14a732fb1": {
     "views": []
    },
    "62685067d5384bc3936fef9711648d74": {
     "views": []
    },
    "62881af0546b46a1b0c0f3e2fba9598d": {
     "views": []
    },
    "62ec7b5c3375419788b0c6ce9a2f1722": {
     "views": []
    },
    "62fe3b51d95348c58d8eb0afd44c5b5c": {
     "views": []
    },
    "632cadaa3d5b431fb3f53d414ea3b19c": {
     "views": []
    },
    "6339af358ab7435fa1a17318fcfa0c9d": {
     "views": []
    },
    "637fbcc539b34f87a1adebd9f17315a1": {
     "views": []
    },
    "63b759610524448694c7f6a44e85ac09": {
     "views": []
    },
    "6436c8ccca344dfc8c454775af09527b": {
     "views": []
    },
    "645b7f875e48483caa1c44aa31b31206": {
     "views": []
    },
    "645d116635314bcb91940094e6285f57": {
     "views": []
    },
    "64c0cc1d945743468c731a7b8f422406": {
     "views": []
    },
    "64d3271cf5594ef098248b687170757f": {
     "views": []
    },
    "652767b1728b490ea63fe26152cb1acf": {
     "views": []
    },
    "6527aafdf3914be0b5c381d5c508b239": {
     "views": []
    },
    "6531cf6a1ab14bc9a320edd4a20a0b26": {
     "views": []
    },
    "655c7e53149d4e9b8bbf3c5600fe0ae9": {
     "views": []
    },
    "6592030887fe46798356b86670b3f790": {
     "views": []
    },
    "65a3a3dd604f465b875355a331f75e7d": {
     "views": []
    },
    "65aca10fd65a45a8bf5cafaf820313a0": {
     "views": []
    },
    "65b1661e2daf41baa91e1a0ef8d43cec": {
     "views": []
    },
    "65b4e7dcb2ec4794bde676256a850d8f": {
     "views": []
    },
    "660e6ee3773043c7979cafac829c2f5c": {
     "views": []
    },
    "66475efc63bd4196bc66a7f775dd015c": {
     "views": []
    },
    "66e474d04f38463399ec5001f8510d4d": {
     "views": []
    },
    "67432a2ee197451c9ae44878b0d18742": {
     "views": []
    },
    "675b6ecd64664e77b68e612f82ded7fe": {
     "views": []
    },
    "676f8d361b1e484782e9776959209c4d": {
     "views": []
    },
    "67bc4e9c6a8c40789ed1d32436edc486": {
     "views": []
    },
    "6835326b152447c2a3cd108b7b242268": {
     "views": []
    },
    "683fb0d5735c480e99dc7e1befadaec9": {
     "views": []
    },
    "685fdf7826f844089b318ac2172b435c": {
     "views": []
    },
    "68727626f50a4ca581fa6e8a9627f6a1": {
     "views": []
    },
    "6877c6ff60a0476699245086e3d5bf5c": {
     "views": []
    },
    "6891884071e34928ab4ef32e5f44fe6a": {
     "views": []
    },
    "6909a612892b4a399cf19da66227e00a": {
     "views": []
    },
    "691ca51da4a74af5b7df9c0d0e2a1eeb": {
     "views": []
    },
    "69275c38f1a143999346681106981b67": {
     "views": []
    },
    "6942531faf454c87913cb8bd77298c10": {
     "views": []
    },
    "69824bdf5110490795819e4b75282e02": {
     "views": []
    },
    "6a00e3b9a67e4ef383afe4274d4a2e30": {
     "views": []
    },
    "6a0fe24e3db646ba83b954c2cc59b277": {
     "views": []
    },
    "6a15b6ad4a1b4d3a83c038567752e31d": {
     "views": []
    },
    "6a34264318434e49977473451ea235c6": {
     "views": []
    },
    "6a4fcdd577754bd0bb552be14ed04188": {
     "views": []
    },
    "6a8148e92f7a4d7b9a1d98b4e2c3b2cd": {
     "views": []
    },
    "6a94c273b24741c9bc8b3acdf9d3122f": {
     "views": []
    },
    "6b990ce07a8b4d328781b4f72c8e3eda": {
     "views": []
    },
    "6badce3193484c228ca74be6093661b6": {
     "views": []
    },
    "6bb2f0e48834436ba4234b3712fcf261": {
     "views": []
    },
    "6c4e176806da4b058a5113db7d2bdb25": {
     "views": []
    },
    "6c549bfaa9394814a9d5eea739df0b97": {
     "views": []
    },
    "6c9648fd456d4f058388d465c65be2e3": {
     "views": []
    },
    "6cb170c6e5984cc09b800fdfd8a5a65a": {
     "views": []
    },
    "6cdd1420c5274b62809471da3b82e94f": {
     "views": []
    },
    "6d002d8d78d94ec98a0f8bbfd94ae567": {
     "views": []
    },
    "6d1d74dc82d1422e80424dd352cffb40": {
     "views": []
    },
    "6dce55f50a874a988253114c32b33d85": {
     "views": []
    },
    "6e019ad283d946c389014ad7bd9805d9": {
     "views": []
    },
    "6e0aaf6d8454437cb5e5e3dd89289af1": {
     "views": []
    },
    "6e60727abbd145538228efd3a4e4c8e4": {
     "views": []
    },
    "6ea0a98f1910476980c5776381be89a6": {
     "views": []
    },
    "6ec99b789ed64664ba0c05f62c2d38c6": {
     "views": []
    },
    "6ee8e9d0fecf4c40915b5bbcfab8c48f": {
     "views": []
    },
    "6f0992fb4a584eacb3ad0152cbceeaaf": {
     "views": []
    },
    "6f45e73802dd4dbb9b87e9d9cf90b70f": {
     "views": []
    },
    "6f5c2c7c6f3b4e8da6bbb359217ce1c8": {
     "views": []
    },
    "6f6c19fbd5704f228828ac60e6c6e571": {
     "views": []
    },
    "6f7d7d1cf44b4cfe88f2434655a6217c": {
     "views": []
    },
    "6fa24816c673414ca9b63b0ce5007329": {
     "views": []
    },
    "6fc8f2fd2e124f87a5c4806eda20c363": {
     "views": []
    },
    "7007d890d5ee4c8bbae0d9ea21811733": {
     "views": []
    },
    "706e78612548443cb65520ec50e41954": {
     "views": []
    },
    "7081950a91af40a48844c8116d078859": {
     "views": []
    },
    "7105a698e04d4b5297b2e15c4d8e9b66": {
     "views": []
    },
    "7113e0302f6346eba7e89466a022f61c": {
     "views": []
    },
    "7126706a2b104b57a2c0c9127a1c2e14": {
     "views": []
    },
    "7142a2d4090544e8b655c763ab72aca8": {
     "views": []
    },
    "71d505a9345840c78d1fee91d4e9743e": {
     "views": []
    },
    "72172d567a0b45c9b40a7503d40205eb": {
     "views": []
    },
    "7223ecbe91c14c84b0cbdd4d08039959": {
     "views": []
    },
    "72355498b77e44c4849d12e4dde3d580": {
     "views": []
    },
    "7243135864ac47cc82ddd8ef2a8afb85": {
     "views": []
    },
    "724cd80387164fcdb5052883b456e594": {
     "views": []
    },
    "725b4f398c4148f0b5d733ea72214321": {
     "views": []
    },
    "7285e45e61c7409ba34bf5aab7030f19": {
     "views": []
    },
    "72eaa518f7eb4736b9ff65db7606c5e9": {
     "views": []
    },
    "7303cbc13dd945a1ab0dde9abdb4171a": {
     "views": []
    },
    "73c332a8879f4f96bbeb0d246d0b51c3": {
     "views": []
    },
    "742145ddafe44f66bc28767b30f58a7e": {
     "views": []
    },
    "746963eb905846dbaec8c13a2bebb6c8": {
     "views": []
    },
    "74a0d9b7fa1848dc98b5dda40b884a06": {
     "views": []
    },
    "74a3d5b9fd4b4da092c05c701a28ab99": {
     "views": []
    },
    "74a6e61436054d4d861dbc730c24ecdc": {
     "views": []
    },
    "74abee7152bc41e3bbae61384859128c": {
     "views": []
    },
    "74dca518172a46779fc5c9d902c7f528": {
     "views": []
    },
    "74f4b0b809a44518b556cf596f1a52d2": {
     "views": []
    },
    "74fb578df453400499ba1a2f8ddc4bb4": {
     "views": []
    },
    "75584b5b617940c8bfeaed77cc84a8fd": {
     "views": []
    },
    "75a62985200548a5b014abaeff2495af": {
     "views": []
    },
    "75c526f81ba3401b83b645e6f9f6d054": {
     "views": []
    },
    "75ca6283e50c486ca0facc80d784854e": {
     "views": []
    },
    "75da55bcb74845e7a2be2699c8cadaf4": {
     "views": []
    },
    "7613cfba24c544649554ee6261047979": {
     "views": []
    },
    "763c52839d874dda8f42a1cf79270bbc": {
     "views": []
    },
    "76649e9f6ac9487a96fcc29e61b5f830": {
     "views": []
    },
    "7676f74233194af585230fb92bcb730d": {
     "views": []
    },
    "76bbe50920984f63b1d77bc3fd495ed9": {
     "views": []
    },
    "76fede560b9d4305b48b9a58f5a83e5b": {
     "views": []
    },
    "77e496dd5c2c4615a6b2c3cb1b72fe85": {
     "views": []
    },
    "77e8a77996874168a1a110f080a1dac4": {
     "views": []
    },
    "781c1792a6ca402fae4f51625bb3cecf": {
     "views": []
    },
    "788234010cc243c791cabdf2c1853586": {
     "views": []
    },
    "789359daca8945ab84ef7ba139f34ba8": {
     "views": []
    },
    "789b7e22e986444699cc12e47f66b6da": {
     "views": []
    },
    "78d4061e0cd14eada0caf1a8dfb4e107": {
     "views": []
    },
    "78eebe112c0545e88fe6cb9ad0f01949": {
     "views": []
    },
    "792434c11e054465a54e2d17fe40d78c": {
     "views": []
    },
    "79e57e25ea974811a1dc971763b2a0e9": {
     "views": []
    },
    "7a547c40d0d64089bd7ae89e6ff18070": {
     "views": []
    },
    "7a7cd3f195484a9c845f12ef12b034fb": {
     "views": []
    },
    "7a8882240246481aa7e7240783e4bc00": {
     "views": []
    },
    "7acc4ae88b154f21b06ac74a028de5f9": {
     "views": []
    },
    "7b07995899dc44c383eb3087fedff5e6": {
     "views": []
    },
    "7b52130282584701b21fe54c452080b4": {
     "views": []
    },
    "7b940f2616e041cfae74998089c02dc8": {
     "views": []
    },
    "7ba75094b76f48a4be2a169c20dcca25": {
     "views": []
    },
    "7bbc16bd9e984f988c61d77bc6f117c8": {
     "views": []
    },
    "7bfe6a150027469594af0f716189e9c5": {
     "views": []
    },
    "7c2837c89e974ebeb853b78235fbdd58": {
     "views": []
    },
    "7cec69d32bd646f2bd203f66bac902c1": {
     "views": []
    },
    "7d0763a65c084a639cf44c26782103e0": {
     "views": []
    },
    "7d0e45c26cc044008c97b7ae639e44ca": {
     "views": []
    },
    "7d2ce2bdce8f4e99ba088643993f0275": {
     "views": []
    },
    "7d58ffbd1d6c4ff5bc1caee034444cf5": {
     "views": []
    },
    "7d79a0a5016d4a59bdcadfe6d0467dcd": {
     "views": []
    },
    "7d8a57de73f3472890b4de672f8a1b86": {
     "views": []
    },
    "7dfc3f61ace94ba1969f98f35b699940": {
     "views": []
    },
    "7e1a63d538374585b171e73f3a2d1813": {
     "views": []
    },
    "7e1b3f6285f2488da80a02a5fa49c72c": {
     "views": []
    },
    "7e4b6a558abd43d9a86eee6b76810f7f": {
     "views": []
    },
    "7ed4162c0c4444a4a6c704ba57a27183": {
     "views": []
    },
    "7edd41aa4232414b846b99c311405f19": {
     "views": []
    },
    "7ee65373cfb648d980d9edf0584541be": {
     "views": []
    },
    "7f22e8a991384354a95f3dcb924e02a6": {
     "views": []
    },
    "7f39e9c29a274e248739e0453b6e3bb3": {
     "views": []
    },
    "7f5963d127514506b1fbd81e187ba941": {
     "views": []
    },
    "7f5a79c93c5b40a29ad2b86773e85722": {
     "views": []
    },
    "7fa36cb66dde443db81268021b9e7037": {
     "views": []
    },
    "7fd99b973b764cb6b3afe769d098d71a": {
     "views": []
    },
    "8008acd7b3a8402396f194a7b93ac7db": {
     "views": []
    },
    "8098e73e593c41a8b2cfd1850cead242": {
     "views": []
    },
    "80aa5cb32d734bd392296a5ed74838ee": {
     "views": []
    },
    "80d31ac5c2f84c5793ae6c3a542e0416": {
     "views": []
    },
    "80d52136af2c4b07934bae078c1eb0bf": {
     "views": []
    },
    "80e67b1090f444c7b94d6d6003b5424c": {
     "views": []
    },
    "813bb5205ff24dfdbd7b7c6d7e341972": {
     "views": []
    },
    "81cfe9cec4664631b2b6e891273ce397": {
     "views": []
    },
    "8212b0f442c24203b76735e5ae5921ff": {
     "views": []
    },
    "8226c8802a8e406e855f4a134f195adf": {
     "views": []
    },
    "822917fd9149404e941a8087d1440e25": {
     "views": []
    },
    "825293fa02134da18081f27663fab01e": {
     "views": []
    },
    "827b34e5c87e4544b7a46651cb16119e": {
     "views": []
    },
    "82c0c1ab659344bda0277b53d9db7aab": {
     "views": []
    },
    "8301e98fd3cc4377ac77017a24737f81": {
     "views": []
    },
    "835ac1b599e944e888d072087a480750": {
     "views": []
    },
    "83c71d96c324457e9db687b3c2a28dc5": {
     "views": []
    },
    "83dc05dddc0e46f6ac2bd88ff2799933": {
     "views": []
    },
    "83f1e07365bd457abf7e68cebf33f7ff": {
     "views": []
    },
    "8401c7f4c5214e11912c8be9947841d4": {
     "views": []
    },
    "8461b997381d42bf95bf8f3606b78727": {
     "views": []
    },
    "84c3afc87f774947bfe97d22e038efbf": {
     "views": []
    },
    "84db024783cf4049b1751f3b6894049a": {
     "views": []
    },
    "84db961a1190435887eb890a3b01dc66": {
     "views": []
    },
    "84e5d435e73f4a1ea3fbde66eeed8ebb": {
     "views": []
    },
    "84f4dc89bfd6462aa2b023a760d327a4": {
     "views": []
    },
    "857fef9b39184d60b7e60e6d45af114b": {
     "views": []
    },
    "858e400fe4684890a0d8e3e8a7fe802e": {
     "views": []
    },
    "862221a17879490eb31c3c61b9caf6ce": {
     "views": []
    },
    "86f6db4e3a934c82a21fe78797a2ec2a": {
     "views": []
    },
    "87163bf01acb4618b01a5fa11feb8b47": {
     "views": []
    },
    "876290b63cba47d0b2013b3f28a2f59c": {
     "views": []
    },
    "87c288149424480387795fdfdfca08be": {
     "views": []
    },
    "87dbf21b2bfa480a825584379b2bf464": {
     "views": []
    },
    "87f47854d7e3495594c87551241016b8": {
     "views": []
    },
    "885984d667504186be3c39e30eb802e6": {
     "views": []
    },
    "888bd211e02d41638aacd80aa4334767": {
     "views": []
    },
    "88c4d3bd77ae49f9b8f5b568a44a1e99": {
     "views": []
    },
    "88f6bca3446849b79e88e4552711728a": {
     "views": []
    },
    "88f89132f75542c0b377703a84efb947": {
     "views": []
    },
    "890e2797db5445c7a99b819073b78125": {
     "views": []
    },
    "892b4554bddd410b9827799b0e2024e7": {
     "views": []
    },
    "893057f2d2ab414d842fde40d3e9e47b": {
     "views": []
    },
    "8942640bfc754d06a4023862c41f039b": {
     "views": []
    },
    "89807b16a6c644be8d5e97409ecbbd2b": {
     "views": []
    },
    "89c9455dd6e04b3abad6bc3e24c57c24": {
     "views": []
    },
    "89e82c24a4e24eae990838c3b80c86a2": {
     "views": []
    },
    "8a3cbd746da74568b72f80adeb6a4566": {
     "views": []
    },
    "8a5748b6c80f46caa0e66989c40d1501": {
     "views": []
    },
    "8a6124b332e64a86a0e82a59c8be8a1a": {
     "views": []
    },
    "8a6ad69ea27a4fcc9b699a40cd058c1a": {
     "views": []
    },
    "8a94639379eb4aa0921918709a14b63a": {
     "views": []
    },
    "8b5278ad5bbe41829906765b729749bc": {
     "views": []
    },
    "8ba6095c27284c46a64ea244bb315ced": {
     "views": []
    },
    "8bc4ab37f36b438181cddce8fa3c56d6": {
     "views": []
    },
    "8c121678be88486d9b31d1bbd5f0b366": {
     "views": []
    },
    "8c2cc0cfd7b04bfe9e51516acd577315": {
     "views": []
    },
    "8c9f2906b4b74205b5c02c3ca79015fd": {
     "views": []
    },
    "8c9fb53505b6420897528d131fe20e8e": {
     "views": []
    },
    "8d89a334afd84334bc811fbe185dec75": {
     "views": []
    },
    "8dbf6633df4748c998d2ba8f388fa817": {
     "views": []
    },
    "8dd292b5a2274df585b2325dd64c9f09": {
     "views": []
    },
    "8de5223073ca4484b54ffda762ea3b55": {
     "views": []
    },
    "8e220a6f5a954a05b0a3fd46a4946489": {
     "views": []
    },
    "8e69147304a54c9ab0c7a37e84da1332": {
     "views": []
    },
    "8e73621b3e2643368c531b2ea6008dc3": {
     "views": []
    },
    "8efdab28557145b69bd69831c81da86e": {
     "views": []
    },
    "8f0ac18f9c5c4d75ada9b7686e3ff85f": {
     "views": []
    },
    "8f1b354e94d4440ca19c71dad565d87f": {
     "views": []
    },
    "8f59d3b3a95447b2adc44c01c152e550": {
     "views": []
    },
    "8f6797371b9a4db485dc8f466ba4821e": {
     "views": []
    },
    "8fd34d9669c645bcb39aea181001e212": {
     "views": []
    },
    "9068bf7409454a5eafb1c6f543b201f9": {
     "views": []
    },
    "90a0938a2ab0410abfa96de71dcca53c": {
     "views": []
    },
    "910df815c54c457ab5a18fd1fead1e7f": {
     "views": []
    },
    "9140de2b39b9454ab988559898f458dc": {
     "views": []
    },
    "9162983ad45a42bc8500815ccaf88944": {
     "views": []
    },
    "916c97b7f3be45ad8fbc7e9107938811": {
     "views": []
    },
    "91aca7a188f74768b48c37e26b48fb68": {
     "views": []
    },
    "91c0c8728c244f91bf2c6042171c9031": {
     "views": []
    },
    "91c808fe970d40d4a824246c4a90909f": {
     "views": []
    },
    "9230551ea7854db4818cf69d4210ca25": {
     "views": []
    },
    "9235592b991d49db9dcff33c1aa23671": {
     "views": []
    },
    "927d98cfb0524f09896bd2e981c5c210": {
     "views": []
    },
    "930fc534c9f44e0ab9876a37e75a4862": {
     "views": []
    },
    "935ff68382c8467297652b28171a4108": {
     "views": []
    },
    "937cc198e0634b46abd4ec0a6d725156": {
     "views": []
    },
    "93b0d5cb900e440a8498039c50c66773": {
     "views": []
    },
    "940774c9a1e741e3852b2d7f9dc60c03": {
     "views": []
    },
    "941631bc879b4db7a9fc72c4708193b1": {
     "views": []
    },
    "94865a72942446669eb3a5d89f7eeb02": {
     "views": []
    },
    "94a8cfcd2adf471786ebdb256d45b954": {
     "views": []
    },
    "94dffd71bfbc4b8e9174e5b60a7f9689": {
     "views": []
    },
    "94f5261e0c3a4ab490942582573e686f": {
     "views": []
    },
    "9534fb093318458c85e90d5803b873bb": {
     "views": []
    },
    "95642470a34949b49e700fcaf3ab1d74": {
     "views": []
    },
    "958085601dc0413fba7863c5cfa7a545": {
     "views": []
    },
    "95a60a93dd904a4ab190fa9b6d0122fe": {
     "views": []
    },
    "95a761ced50249629f0e8a6749efb9f7": {
     "views": []
    },
    "95e269e050ab4df287076099850df684": {
     "views": []
    },
    "960862eccb6f4f5fb544daa99e516d71": {
     "views": []
    },
    "96bb1354da4e4d0989920bb20c4c8208": {
     "views": []
    },
    "96ea467196c647af977197d800a10107": {
     "views": []
    },
    "96ee5a82dac44d27bbd99269881d0f95": {
     "views": []
    },
    "9704228bf39f43f4be3b747b6272460c": {
     "views": []
    },
    "9704b0eaf7a64ac0b642570cc8693a34": {
     "views": []
    },
    "973f755907a34eb88c9458048475ea35": {
     "views": []
    },
    "974876ae1ebf436f9ea2007ce425d230": {
     "views": []
    },
    "974b3351c33643afab51e02388f18060": {
     "views": []
    },
    "97ac4a47d8a3482e85e96c797191797c": {
     "views": []
    },
    "97bf58ad59d74553885e45c8ca4660c2": {
     "views": []
    },
    "97d2ec17c8014b5a8f3dfbb8d03b4729": {
     "views": []
    },
    "98a23e959ff64cf392375f07976e3573": {
     "views": []
    },
    "98f47354db0b4ccda18431b8ff5fb2ca": {
     "views": []
    },
    "99140517278145a18836c50396a58170": {
     "views": []
    },
    "9915d202bd7a47f6976b2ae8f0699e72": {
     "views": []
    },
    "999842fc381c4db9ae3f77b2218a2ee6": {
     "views": []
    },
    "99afbae10aae4c2c95ba6152510cbf66": {
     "views": []
    },
    "99ba9b55af40465f8e6fa84cf64af1fe": {
     "views": []
    },
    "99c880608fa945f296a8c760f065ca0b": {
     "views": []
    },
    "9a1e6a1320124be4892e62786f0b0eaa": {
     "views": []
    },
    "9a2e0c0285634bd780a17e1d16422a99": {
     "views": []
    },
    "9a5d93456492424fbbae9a8ec3ab46fa": {
     "views": []
    },
    "9a68af67c4c94d90b986acaede8497ae": {
     "views": []
    },
    "9a8224d5f83e45078acdaee409baa545": {
     "views": []
    },
    "9a857a07a5214c1ca80668267f9063bd": {
     "views": []
    },
    "9abb603a63da456da9879eb6857f98fd": {
     "views": []
    },
    "9b897f75dcf546d5bcff97a65abe6da0": {
     "views": []
    },
    "9b9b038f8bd34d75b51434e87ebaa2bd": {
     "views": []
    },
    "9c240722c45b40efa6a94fcf1c3875ac": {
     "views": []
    },
    "9c3a7fc8fb10434193e810a670afb8ab": {
     "views": []
    },
    "9c3bce2736c643689da2f45e2ec077df": {
     "views": []
    },
    "9c54113a82a24f96a78c6b0167981f1e": {
     "views": []
    },
    "9ca6f744e20c4d37a843552ac38b19f0": {
     "views": []
    },
    "9cd5e65e7753450fb2a7ecc00821e1a2": {
     "views": []
    },
    "9d2bfd513c8a46b889037c7d39950415": {
     "views": []
    },
    "9e10beb595e74927a5919af0385657de": {
     "views": []
    },
    "9e13dda9291943f6a979c60986dce26a": {
     "views": []
    },
    "9e224f0580524824a27a700094e7d6a2": {
     "views": []
    },
    "9e292a6dfcd54ba2af4e88685fb3a1af": {
     "views": []
    },
    "9e38b94da40b4ddaa9fc84b08cf393f3": {
     "views": []
    },
    "9e59c2f5e6254e33a655f0c4a5e062bf": {
     "views": []
    },
    "9e81a843d4394fa9b80bec30fe3ad240": {
     "views": []
    },
    "9ef26c0c9bdf4f9bae34fa73126a64bf": {
     "views": []
    },
    "9f5df95a16644b4b9955a04d81527177": {
     "views": []
    },
    "9f7186fd60b9456da4761c32b3921be4": {
     "views": []
    },
    "9f76ab74a8554157a2c6f8b46b69b762": {
     "views": []
    },
    "9f83e364980c4ca0b143ace7460558f5": {
     "views": []
    },
    "9fd9536b26104562942dcb4970aab85f": {
     "views": []
    },
    "a06141b5748a49d888a3669179550c98": {
     "views": []
    },
    "a06dda2ec05b40c0943eecc971603bd2": {
     "views": []
    },
    "a08c08b80fbc4bdb81e792d729745cfc": {
     "views": []
    },
    "a09901562ccd4fceaf3b6db78c4e4ddf": {
     "views": []
    },
    "a09ace9d0b2d47679b3f8d9b8b163fcf": {
     "views": []
    },
    "a0bafedd1e954f84b761fd80e384d5dc": {
     "views": []
    },
    "a0e9118206c54269bccadec523331254": {
     "views": []
    },
    "a0f4fd4ca4f5461b9a018fa3c936b49d": {
     "views": []
    },
    "a102e10bbc844e439e0d308de1360772": {
     "views": []
    },
    "a107448abfb44e2ea7c3342c8d31626f": {
     "views": []
    },
    "a1124d79d5e540cda65846a97a38f030": {
     "views": []
    },
    "a118e5541bf8487a8d0cebbfa560a20f": {
     "views": []
    },
    "a136cb79b1a141ec968ace76b5a27244": {
     "views": []
    },
    "a140a0c8e1e6450daf99763574771c0f": {
     "views": []
    },
    "a21ce045a15a46629a423a112c87a84a": {
     "views": []
    },
    "a224846155404c09aba3257163912710": {
     "views": []
    },
    "a243f4bec47545138c44e2f003b69b25": {
     "views": []
    },
    "a2744c0488c141da95e4a7f3c806f5aa": {
     "views": []
    },
    "a2ae2f2695b24051aef61b64c6c23668": {
     "views": []
    },
    "a2b0ca81d12f4b6ab0d5a9e6cf43679d": {
     "views": []
    },
    "a2bf787462644714ab05fb1dac141cd1": {
     "views": []
    },
    "a2ce0482c5f14d769a5af7bb8005b22e": {
     "views": []
    },
    "a2f7922eb8454feb902c66f4fbc00316": {
     "views": []
    },
    "a309914487bd4aaf934926ecc1899f3e": {
     "views": []
    },
    "a30d7bcf56184db4b1d7601d2d0136da": {
     "views": []
    },
    "a31ded9b3dbc461f8f8a09ecbe1f190f": {
     "views": []
    },
    "a3927285c41a4709a1733c8922ae4242": {
     "views": []
    },
    "a3f70416f2a5458ca93dd24738484fdf": {
     "views": []
    },
    "a400be41c04149f39d881bab09353e36": {
     "views": []
    },
    "a47f60adbbb24f26be972089fb45985b": {
     "views": []
    },
    "a54a423dd814404482e9cd559920b10a": {
     "views": []
    },
    "a5947c8da4a442989f3f8422d07b0162": {
     "views": []
    },
    "a5b57e6cf20d4ae6a6eab3d9242e822c": {
     "views": []
    },
    "a5c8a40635aa4046b63f4f772dc60275": {
     "views": []
    },
    "a5def23981bd4e61b7d219964bb2224c": {
     "views": []
    },
    "a5e463ebea914255b8ec566e0ba50185": {
     "views": []
    },
    "a6067b2e564a40cfbc191e773dfad078": {
     "views": []
    },
    "a68b03fc4ad2433194aeedfec3335d95": {
     "views": []
    },
    "a68bd5cea98c4a91b17ef5edb95a027c": {
     "views": []
    },
    "a6937e350eeb49d3af9c97bc0271b1ce": {
     "views": []
    },
    "a6cf24bd2632454fb4bf77c28bb96d23": {
     "views": []
    },
    "a6d497d0df5b4f00a1cf3ae3dda0c3b1": {
     "views": []
    },
    "a6e025a21a9f4fa6a43d529674c3394d": {
     "views": []
    },
    "a72b5cbf923c4d048c20ee3c1c18f9ac": {
     "views": []
    },
    "a736edc354d04d218dce8d3f906b0124": {
     "views": []
    },
    "a77fca825fd0473fb7bb7dbf53f912b7": {
     "views": []
    },
    "a79b7648d761401184848ee9039a071b": {
     "views": []
    },
    "a7ba70f0c2614533ac6caa54f37787d7": {
     "views": []
    },
    "a8228c2a1b4140898ef8a735acc79e29": {
     "views": []
    },
    "a827f674f9ce43638b8e0b9e7e38e8be": {
     "views": []
    },
    "a8827df827304096b26fba723ff08871": {
     "views": [
      {
       "cell_index": 3
      }
     ]
    },
    "a89fa6bdd6974e3f9829571cf234501e": {
     "views": []
    },
    "a8aec8721bb344dc8c5e0fc67e3cc8c8": {
     "views": []
    },
    "a8d9ca7689384290948f4a2ca21fbfc1": {
     "views": []
    },
    "a9157cd6b41145aab324cc84e5e28758": {
     "views": []
    },
    "a9520e1ed2bd4a639316d866fc413ac1": {
     "views": []
    },
    "a97660894fce46a796b71541a4f11d58": {
     "views": []
    },
    "a9f9b7a762994140b1938a88087fc373": {
     "views": []
    },
    "aa0abd8e154f4293833bb09e9737bdbc": {
     "views": []
    },
    "aa175e9c6edb463e95b94c030a96a7c4": {
     "views": []
    },
    "aa2aa02fcf0c456f8fd83e7f419ebc7b": {
     "views": []
    },
    "aa739e102bab4ae69de88ec6b23ddb6c": {
     "views": []
    },
    "aa97a5ad4b19408c9065e6b401c8a761": {
     "views": []
    },
    "aab93fe680014f0c80e27d3de8b5abb8": {
     "views": []
    },
    "aaed9ff5240d4d5a8fa321f8b5066aed": {
     "views": []
    },
    "ab4b1a900a9242478fe0bbe0713da5a3": {
     "views": []
    },
    "ab7a4765cf2d4c47a9220a274a5e2473": {
     "views": []
    },
    "ab9a14bfcabd4b96b8a7bc006cb92ec5": {
     "views": []
    },
    "ac07db7f5a354e8cb9f4540690348ff5": {
     "views": []
    },
    "ac163584909e44b2abfa0e768156ba36": {
     "views": []
    },
    "ac39a5e379f04a5188d659196897f187": {
     "views": []
    },
    "ac50c7da1b4e4fdaa45ca68a48fe4eec": {
     "views": []
    },
    "ac64a31c8946482198f05ca7b8aad3d9": {
     "views": []
    },
    "ac7c15e9d80d40b1af70afe292ac8762": {
     "views": []
    },
    "ac7da31194874e638223923c6f884df9": {
     "views": []
    },
    "ac94415a78dd433fadf5ad27339a028a": {
     "views": []
    },
    "ac9c1e7ed80944548e189f08575c40a5": {
     "views": []
    },
    "acf6a6a8a01a4922ba29882ad19d3a85": {
     "views": []
    },
    "ad20bba236864b9e9b4de039cebf3bbb": {
     "views": []
    },
    "ad48331c45364cb6a271dbda7e47011e": {
     "views": []
    },
    "ad595c6f05014ad2b1dc28546f0e4a18": {
     "views": []
    },
    "ade429b52b7e42e9be0c8afcfe48e385": {
     "views": []
    },
    "ae1557170b034fdcad6ea8cb8c9e41da": {
     "views": []
    },
    "ae2f927a5ba542278395d1d5e2426246": {
     "views": []
    },
    "ae30af033d8b440fa1b11571b0085194": {
     "views": []
    },
    "ae786ad351da406f9689b00a9ed4f177": {
     "views": []
    },
    "aed59a15144e4dd59446a8a7f8a20f8e": {
     "views": []
    },
    "aef2ef84f33a49f0ad7e52114608988a": {
     "views": []
    },
    "aefe9ae8aa00429c934693808dccb2dc": {
     "views": []
    },
    "af9b8da64ad943d29d96c2702ae947d6": {
     "views": []
    },
    "afa70a3b8f0b41ac8f4db252d4ce677e": {
     "views": []
    },
    "afe78071bb1342a082c857d1920e90cb": {
     "views": []
    },
    "b02613adef3c450091acacef28c1c3e1": {
     "views": []
    },
    "b03f55687a854b9cb8ef9977b36395ed": {
     "views": []
    },
    "b07b658855df48dba3e50579a1eb7ffe": {
     "views": []
    },
    "b07d49deb0b347bfbccf1635131ae1c4": {
     "views": []
    },
    "b0baedb272c14528aec2d55f5ef54cd7": {
     "views": []
    },
    "b0e7086fe35d4c7fb24ff59117c50494": {
     "views": []
    },
    "b2200e9ee154480cb0ee915d93904000": {
     "views": []
    },
    "b24b3a94c9854da888f39eb89f3ff168": {
     "views": []
    },
    "b2596d2eead0438a91879dd5d1e8df76": {
     "views": []
    },
    "b289a009e3c94967a583fa2719ed0721": {
     "views": []
    },
    "b29574bbe542491eae47c3dc63987675": {
     "views": []
    },
    "b2dd051130054c719db7644d25c75865": {
     "views": []
    },
    "b33b4fdaedc24b3a9a5a7ffe2fd261c9": {
     "views": []
    },
    "b34c9577f0be443b83d3f5c1bf93428f": {
     "views": []
    },
    "b35222bc225c4395925cb5f8d824943c": {
     "views": []
    },
    "b37144f5eb014338b42373c64c9edabc": {
     "views": []
    },
    "b3901039779647bd8ca953cce4a25caf": {
     "views": []
    },
    "b44e4fe2aa964cc1a682c0fcc353235c": {
     "views": []
    },
    "b4514a170a91441fab1bb31723992b7c": {
     "views": []
    },
    "b4541c68956f474780bbc466c4108d41": {
     "views": []
    },
    "b475d7e90ffe4c56b58c5040dd208832": {
     "views": []
    },
    "b4a87be5775d445b8cb7dd9d9aabd277": {
     "views": []
    },
    "b5191d676e38422da4e08ef8867d84cd": {
     "views": []
    },
    "b5214c6b311849ffa75c396afcd07036": {
     "views": []
    },
    "b5ad59d2f5cf4eb4b6c8bf0e76eb9660": {
     "views": []
    },
    "b5b709161aee40c2970f77d2208cbfa6": {
     "views": []
    },
    "b5dab4e57c1d4182bf57cceacc87d89b": {
     "views": []
    },
    "b5fd09ee3ea843d4a6084490c124c327": {
     "views": []
    },
    "b6141536d3c5485db7fc782ed9145c43": {
     "views": []
    },
    "b63841ee167f4fe192fbc9e5f8259c0b": {
     "views": []
    },
    "b63feae184d042a58cd28cc83291e7ba": {
     "views": []
    },
    "b651aaf4c1de4669bebaf34fab4a2ceb": {
     "views": []
    },
    "b67b4b9bb5b14a13bf3650929edb95bc": {
     "views": []
    },
    "b6a4e4c239414795bb86e31df4a808a6": {
     "views": []
    },
    "b6aa28f14b354fae8520578aa6ab8a45": {
     "views": []
    },
    "b737cf9a499d490ab30b50fce05770f9": {
     "views": []
    },
    "b762d319a87743e2b7f4275aecb02e85": {
     "views": []
    },
    "b7ff8c0de40e4756b1eca698cd45074f": {
     "views": []
    },
    "b813da5890cb46afa11aa758ac8dc906": {
     "views": []
    },
    "b886407849724272a3428a2d83a2b0e2": {
     "views": []
    },
    "b8b6b7d9e43049e6b7c1c55b2e860e12": {
     "views": []
    },
    "b8bc2a9ff9ab4eb4bd837bf9219a1274": {
     "views": []
    },
    "b8c73e0e5a734c3fb2afccb3626dc1b4": {
     "views": []
    },
    "b8e02342a4814513a21032ce6df0b7ab": {
     "views": []
    },
    "b8f883d99f934f12951659a8a1542cde": {
     "views": []
    },
    "b93acec123e14dfbae8ec2ce78741c9d": {
     "views": []
    },
    "b9447355a7014f6cb9a492c8698ff393": {
     "views": []
    },
    "b9679bd690ae40bc9c17b5893fd927ce": {
     "views": []
    },
    "b968bbaf706144c9aca3eb4550da306d": {
     "views": []
    },
    "b9a0873bddb74858946b65657e1546c2": {
     "views": []
    },
    "b9f2b667af0b4cecbca8ed7a67318e50": {
     "views": []
    },
    "ba15c98d495944a79af8312d1d7b69fb": {
     "views": []
    },
    "ba4b51af50424898a47107af38787791": {
     "views": []
    },
    "babba26f6cf747ba8488e66b32502d2e": {
     "views": []
    },
    "bac5c8a39a2b4c869fbc0b277f38326e": {
     "views": []
    },
    "bb6bd7cac72f49fca6b21c9b6bca097e": {
     "views": []
    },
    "bb759b7803f34446947c13b382608a0b": {
     "views": []
    },
    "bbc8b09a36774bb0bac80d34ce61f497": {
     "views": []
    },
    "bbe7cc2e186c41f6869a637e12af76d9": {
     "views": []
    },
    "bbf411e7b9cc473fb9a2222dafa93b1c": {
     "views": []
    },
    "bc756242ece44f639ef34edba67cb78f": {
     "views": []
    },
    "bd219a3bf2ff455d8a57dec26e8999d8": {
     "views": []
    },
    "bd30013fbd16468e96e5ef778bf9fa17": {
     "views": []
    },
    "bd6029c0d025421fa7a4c7a6f3725775": {
     "views": []
    },
    "bd66b5ffe15c40e08831e5b2c22c4826": {
     "views": []
    },
    "bdb15bda1816453994155c70c530e361": {
     "views": []
    },
    "bddbc4e4540d481dbe42be178a42e17a": {
     "views": []
    },
    "bdfe050b0ed3491f8955262d419e589d": {
     "views": []
    },
    "be1c9b19f72243039ac30e08dd37e8d9": {
     "views": []
    },
    "be5da946fbee4cb2a02a8c7fc07b00e0": {
     "views": []
    },
    "be6db954bc394ff99b177b68d1668acd": {
     "views": []
    },
    "be8f7b93983649d7b7229062345fdf6a": {
     "views": []
    },
    "be959c91a4b14715b378004bb2b7896d": {
     "views": []
    },
    "bfc5c1dc8c724a7581c2281ecf4d487e": {
     "views": []
    },
    "bffc8d26a84a4ae889148821b6e715e8": {
     "views": []
    },
    "c033e82988164c70a5356795e9dc253c": {
     "views": []
    },
    "c03dcf469778422e85375cc6957562e3": {
     "views": []
    },
    "c048c0e7f37d49da8908fa3cbf08d18e": {
     "views": []
    },
    "c093ffac63a140d09f6731476664ccf2": {
     "views": []
    },
    "c0f85133bc3245bcbcd1a5bda25d1af9": {
     "views": []
    },
    "c12e4941f31e455dbdd53341b8c2df2d": {
     "views": []
    },
    "c18f46f047cf477ca49cadd0b61cfd44": {
     "views": []
    },
    "c1ac2eec7ba0464ba2e7ede62418634a": {
     "views": []
    },
    "c1b64519b5be4ccbb3995227ae37843f": {
     "views": []
    },
    "c1f9260a04ab449e9832c690ef0f8002": {
     "views": []
    },
    "c2854d1a137549b9a269dae7926d2902": {
     "views": []
    },
    "c293c8a5f02b4c6b819b0a95938c3304": {
     "views": []
    },
    "c30544db083e4a33afaaa91268bb6361": {
     "views": []
    },
    "c346fce11e1f4170acadefa6462c735c": {
     "views": []
    },
    "c366d680af3b479c90c66c417fbd7206": {
     "views": []
    },
    "c3803555125f43a49a29b8248e94bea9": {
     "views": []
    },
    "c38624ba38034cde9c1ae70632560155": {
     "views": []
    },
    "c3c60826347f46299512e56444421bc8": {
     "views": []
    },
    "c3c679627053444f9f6669a6f1807b16": {
     "views": []
    },
    "c3dbc5535298470eaa964a8345c483c3": {
     "views": []
    },
    "c40db3fd6c944ddfb440ea4eb28bd94a": {
     "views": []
    },
    "c40dbb0f252848e4a3917366a68b56de": {
     "views": []
    },
    "c460d51203514a39a31d6cd7141ecaa0": {
     "views": []
    },
    "c49cad122f9f483ab44e9042b9fdb4a7": {
     "views": []
    },
    "c51eb31c14e4425f94d1bfaa4e3b1921": {
     "views": []
    },
    "c57eea1a134c4e92b92758e05f46270b": {
     "views": []
    },
    "c61e2a56636f4a3fa5bdec5a5127e532": {
     "views": []
    },
    "c63342299d9648779e43d5102ed9a3f6": {
     "views": []
    },
    "c6695dea62e945fc9d6afa462641243c": {
     "views": []
    },
    "c6ec586ceeb249879a6efded62545f84": {
     "views": []
    },
    "c6fc5d621fcd418cbc7014197e32f99c": {
     "views": []
    },
    "c720072fc4684aea96e3c0ddeed5b938": {
     "views": []
    },
    "c75673679c074445aa8dbf6d53be843b": {
     "views": []
    },
    "c851ab494e9e4481badaa5921fee0daf": {
     "views": []
    },
    "c856cacbaa344cd2a786391b18d50b43": {
     "views": []
    },
    "c862a809e6304c54b4ed1efdbb1e74b6": {
     "views": []
    },
    "c91f8e950ada482198fd6ceb99152e4b": {
     "views": []
    },
    "c9ae5ece13ef4bf48ef7848b2662c207": {
     "views": []
    },
    "ca1c691b99ed4f7085b22032cca3f061": {
     "views": []
    },
    "ca7a7c8219aa4270af0cdae2a1b558e5": {
     "views": []
    },
    "ca8ed08ab3b640b2ae0df1a776df2168": {
     "views": []
    },
    "cabba1210291408384555cf6f753df54": {
     "views": []
    },
    "caec76b605e1496e8b477242557419b9": {
     "views": []
    },
    "cb59f486772b4d99a6564b07eb759ded": {
     "views": []
    },
    "cb6f9c25433c4cbd98ef687bcba7702a": {
     "views": []
    },
    "cb774d211bf548b491d113d2b8d8a5ba": {
     "views": []
    },
    "cc1076509d374dfda7e4963f956184ce": {
     "views": []
    },
    "cc2dc3c0f3c8407cb171491488f4b6af": {
     "views": []
    },
    "cc57a33295674b3fb7e0b041541ce01a": {
     "views": []
    },
    "cc5c79daf5224327949f379c22fae645": {
     "views": []
    },
    "cc6e0ec295a748cfa73e020bddfdd2ef": {
     "views": []
    },
    "cc7d6d81cb3945d7a08c7dc8d902e0d4": {
     "views": []
    },
    "ccd769763d52493caed6b97152bf371b": {
     "views": []
    },
    "cd008205e58c4289b19043d452afbca4": {
     "views": []
    },
    "cd41174abd974318abb898b4ceb42d41": {
     "views": []
    },
    "cd9d33b9eeff4579842ceb08a7dabb5d": {
     "views": []
    },
    "cdbf71da3adc4b5791988940083d49cd": {
     "views": []
    },
    "cdc40cafd73a41e4828f1664ffd27531": {
     "views": []
    },
    "cddee54da8a64f4e94b5141159829cd7": {
     "views": []
    },
    "cdf59a92a9b4474c98bd55047f9fc6d6": {
     "views": []
    },
    "ce0d7a7373144d2e9ebc26b550ae4de8": {
     "views": []
    },
    "ce1b36e8df8e4349987af42bc35b59fc": {
     "views": []
    },
    "ce5a32c8be32476f8a770966b03033e3": {
     "views": []
    },
    "ce5ce953ea1c4aa281a361b1aafac509": {
     "views": []
    },
    "ce94b5a51a6847fba532890903b93005": {
     "views": []
    },
    "cea2318bf54c492ea3a18c5757aa576e": {
     "views": []
    },
    "ceb3c8b65f6348f7940f8510f95c30c8": {
     "views": []
    },
    "ceb4356de2aa40d4aef4e0799c4ebeb8": {
     "views": []
    },
    "cf1807f46d5a41ada1b77bbe586e959f": {
     "views": []
    },
    "cf22105de13a45da99f2f541e4711019": {
     "views": []
    },
    "cf5bfc15148c448fbd5c50d5128d221d": {
     "views": []
    },
    "cf9fd085801447d3a3695674a2cd6564": {
     "views": []
    },
    "cfc877e790754b91ad27ac945a472aa2": {
     "views": []
    },
    "cfcd2d2d18b34decaceb882141d0a3a2": {
     "views": []
    },
    "cff5268b60764d889b39686cfd5b3f05": {
     "views": []
    },
    "d01e72ddf68a4d2faedcdec15a93f95f": {
     "views": []
    },
    "d01f851b4e994833b9de3ce47908ee0d": {
     "views": []
    },
    "d07927f5f3754e598217cfdcab9b9240": {
     "views": []
    },
    "d0a3f86ff31446cbb70e6fe4e6d2ce4f": {
     "views": []
    },
    "d0c2392d412d4184aeef5516a87c984e": {
     "views": []
    },
    "d1057c2ecced4c14b85dd4b9334e348f": {
     "views": []
    },
    "d119432fcbe4431d81ef36856f82ebe5": {
     "views": []
    },
    "d11ec85c84b84037bbe149b0ebafa3b2": {
     "views": []
    },
    "d195ca9048e14ce392563f990f164dfc": {
     "views": []
    },
    "d1b1bbb1b5f84f61b729d30956870256": {
     "views": []
    },
    "d1e82931a85241f284acca65081f526a": {
     "views": []
    },
    "d2427e71977b46b59f480c059ff4a699": {
     "views": []
    },
    "d24796ad29e64fe78bc3c2f8e514e3c2": {
     "views": []
    },
    "d254171957204f28a4ea6c82327ad3e3": {
     "views": []
    },
    "d27e82976e0448dc8e28c98541d22593": {
     "views": []
    },
    "d3e5d22e7167489eb0534d9276f3fc1a": {
     "views": []
    },
    "d409a6aaa844481db7d2398c8a94d8cb": {
     "views": []
    },
    "d49396c159d040a6914596e03664e11d": {
     "views": []
    },
    "d4af3e0e5ef3471c97be8c5db9c0e7bb": {
     "views": []
    },
    "d4dd63b76ecb4f7b87bac1667169d79f": {
     "views": []
    },
    "d4e54a5863764308a9132718a3676836": {
     "views": []
    },
    "d4e6be825316468d93be795eae7532e9": {
     "views": []
    },
    "d523e1822eae4af7976c535cf7f35aec": {
     "views": []
    },
    "d5746cb617304527afcda3c20e6e0024": {
     "views": []
    },
    "d5b3478ba6ec4a77aa78ac8924ed7948": {
     "views": []
    },
    "d5ea3f8bd89a4c9d869b37bbc38cb1e9": {
     "views": []
    },
    "d5f4ab2e94474f72a9d96c0eda41e0c6": {
     "views": []
    },
    "d62685fc6d25419092d6e9a4270b61cf": {
     "views": []
    },
    "d62a55a6a56c45238a8cac7202d16c69": {
     "views": []
    },
    "d68efac47aad4ae89f380c331e5ab091": {
     "views": []
    },
    "d6f56b18ac164218899e71dfe143d0d9": {
     "views": []
    },
    "d6fa1797b59b45e79da3e9b22c1a1f1c": {
     "views": []
    },
    "d70ace30a1c6493985adbe5413aa3fc9": {
     "views": []
    },
    "d7185f094a934e8fbf019913ac1f9f80": {
     "views": []
    },
    "d7648722f0ec4a54bc1f9694a144210c": {
     "views": []
    },
    "d7979676b60443e480b2d310df92ac9b": {
     "views": []
    },
    "d7a91e2d912946f49becacc661acee51": {
     "views": []
    },
    "d7b88b006c2e46aba0fde7b4f7f02dfe": {
     "views": []
    },
    "d7d276b649c04f0ebda050c90f809bf7": {
     "views": []
    },
    "d7f0133fb0e44f398dec75cbff7e79c1": {
     "views": []
    },
    "d81a6a02b0064fc185ea91eee7e4033f": {
     "views": []
    },
    "d82c99ae31d94daea373d10e886bdcf3": {
     "views": []
    },
    "d82cf097500f4de99576c950a1a12e52": {
     "views": []
    },
    "d83ef7e896a740649744eb2ad68b82e1": {
     "views": []
    },
    "d8fe651e941f4a7bbc25c20cff0efece": {
     "views": []
    },
    "d8fefec9dd6545eca08e2a2eb24a6251": {
     "views": []
    },
    "d96deb6919a74308b8c93a188e79ddb6": {
     "views": []
    },
    "d97572d49c264fdbb4feb3755706c884": {
     "views": []
    },
    "d9aba39cb8c445bab17726188904bc48": {
     "views": []
    },
    "da5c8d04eec944278f5014d96ad8c6d9": {
     "views": []
    },
    "da603ec8d18346c5b28dd51e9ad00662": {
     "views": []
    },
    "dabf9eb5dfd54f80a24d9210426338bf": {
     "views": []
    },
    "dae5112a227741a18af63b69de8ce4d2": {
     "views": []
    },
    "daf78ed711854d408d341fa7a3fc58a5": {
     "views": []
    },
    "db8ae171bbe348279114a64752f44d74": {
     "views": []
    },
    "db9274484a9f4d56b34448c57ab7fc1c": {
     "views": []
    },
    "dbdc9f9c523a44c599ba04642b259fa8": {
     "views": []
    },
    "dc0062abb2e342d68a48a49281be43ff": {
     "views": []
    },
    "dc082dd672964db385c5ebbd62aefa23": {
     "views": []
    },
    "dc2a7bfa2351458aae63d2b0f2792ac0": {
     "views": []
    },
    "dc4a4a40795b4e44af8112eb1d56b0a9": {
     "views": []
    },
    "dc50234cfb3f4e07993385bcf702d79f": {
     "views": []
    },
    "dc8dfabbf93345b9981c9032b0a6c8db": {
     "views": []
    },
    "dc9c4fae501d4500a5e24286e51383be": {
     "views": []
    },
    "dc9e451af50a4312be84c46aaa078353": {
     "views": []
    },
    "dcd8f8dd91c640fab0747850914df66c": {
     "views": []
    },
    "dd68db0c6fad4e9b83f912e5fb7d3515": {
     "views": []
    },
    "dd69ceb5087941a6859c3d274268ed8e": {
     "views": []
    },
    "dd6cb00dbd364f6793d9cc66c9993068": {
     "views": []
    },
    "dd72d5ca45e34792aa3162f07f659ffe": {
     "views": []
    },
    "ddcb9a20c2694ed99ff01dbb14bfeb03": {
     "views": []
    },
    "de1a79812c2f42e28d44d23d4cc5b299": {
     "views": []
    },
    "de2b95eac4c34e9eaa1854cecd3be1e2": {
     "views": []
    },
    "de39fda7ebeb42ab9220419c28807c61": {
     "views": []
    },
    "de47084ac6344032a20cd3af4d2f6f89": {
     "views": []
    },
    "de6a3532bc194708b4b36c111dd98afa": {
     "views": []
    },
    "dea936404f204a0fa46bc50498891097": {
     "views": []
    },
    "df22cb36c4a54d9db94addfafbfad5e1": {
     "views": []
    },
    "e000f157dcc44caaaed4f9b2dd443d68": {
     "views": []
    },
    "e0141492bb99409a8b13423920e75e9f": {
     "views": []
    },
    "e04ed017ea0143a8814b9e3445ae9ccd": {
     "views": []
    },
    "e082f95c23ce479db8816e7ada0f05f4": {
     "views": []
    },
    "e0a8c7d5262b439d84bd69cbe63371d2": {
     "views": []
    },
    "e14ff94e7a5f424b83ebde8c56d00916": {
     "views": []
    },
    "e184a6b83d1d419f892a97c638d65791": {
     "views": []
    },
    "e1934d9bb9164633b69c7f7bad9c6c2e": {
     "views": []
    },
    "e1a18129c790496a9d7b4d5c61219415": {
     "views": []
    },
    "e1c1722409204c198606522449a2648d": {
     "views": []
    },
    "e20d7561b05b4da8b3717c0b9e07e2ee": {
     "views": []
    },
    "e258ea365fe04e258165c7ca0fc0b56f": {
     "views": []
    },
    "e26894aa6d2a44dbaec6e5ce62958445": {
     "views": []
    },
    "e2fb049e63ad4b91881b2ff9325a7191": {
     "views": []
    },
    "e37a409ca9464c93bbc3436141fd9201": {
     "views": []
    },
    "e3c9d78bc71f48f28f046bc912795f30": {
     "views": []
    },
    "e43bf8158df745d6b6c87ae335a16f1a": {
     "views": []
    },
    "e43d014d31d24d40a0d6caeb6a6ffc16": {
     "views": []
    },
    "e463d0ee09474e4d9e5a7a53d2705ba0": {
     "views": []
    },
    "e4c967c19e564ebabce8d1984d28b15b": {
     "views": []
    },
    "e4e42753310e48ed905f492256b771fc": {
     "views": []
    },
    "e4e709bdccf24a06bf421ca65e0a0145": {
     "views": []
    },
    "e4fb3547b1c84feb9e0cc1f49240aa6a": {
     "views": []
    },
    "e503b9cd6b4e4df190c3ba7395e8ca1f": {
     "views": []
    },
    "e537e3a8c0b94ac7a852a8caeb456bfe": {
     "views": []
    },
    "e540d904ad2149d4a7ca5a28a3ce2a07": {
     "views": []
    },
    "e57498d72fa74b08a1bfeb8f32b8670d": {
     "views": []
    },
    "e5b4107951b4403cb6a5dc654dd77e6d": {
     "views": []
    },
    "e5f252763cc04d05819628c9c4ceb7ab": {
     "views": []
    },
    "e611a5e21bae4b0594ff5fb05dbe81b2": {
     "views": []
    },
    "e61d5a62a693419b9251f4599dd19248": {
     "views": []
    },
    "e61de3c4fdef48ae8d9e6be98c153d6b": {
     "views": []
    },
    "e62b3dddcff940108eb0933a34790496": {
     "views": []
    },
    "e64df75b167c43379bd12cac2f5b4e61": {
     "views": []
    },
    "e66b0464b773496a89e4a5f83e48d243": {
     "views": []
    },
    "e679982fbee347558c7172cbe4e2d03c": {
     "views": []
    },
    "e67e7da448c0448e97a28ce43f42464c": {
     "views": []
    },
    "e6bbe22be0c54e82affcabe5881de7b6": {
     "views": []
    },
    "e6c4d3b1217b4505834cfeeaa585442a": {
     "views": []
    },
    "e6c5a555a8ae445dae508e14ea2a60f3": {
     "views": []
    },
    "e6d4ce16a0f9475c90aa2efbdc1f227d": {
     "views": []
    },
    "e6ff09321cff4ecb89e8015afb06fc31": {
     "views": []
    },
    "e74e4353df9a4acc8f41bf426ffba985": {
     "views": []
    },
    "e75833ba65884ae9ad33475626ae04f0": {
     "views": []
    },
    "e7c8991a564e4c6f92356182b5a30456": {
     "views": []
    },
    "e7e49aefe53d417fbf730631c0532e42": {
     "views": []
    },
    "e80976a625044433a30a3138051ee1f2": {
     "views": []
    },
    "e81f0d7e09704b0dafde03e404940a10": {
     "views": []
    },
    "e820cc65a2c94b878f9e4b3906cd23b3": {
     "views": []
    },
    "e88670401018468d913ca6f453740880": {
     "views": []
    },
    "e88ee559d150462ebbe4d72e789bdc76": {
     "views": []
    },
    "e8b763a1d2cd448384a68ee2d3931b90": {
     "views": []
    },
    "e96496f09a25433b8a5e04e93b88f20c": {
     "views": []
    },
    "e9b230300d1543999093509bd799c353": {
     "views": []
    },
    "e9d11af78ac94a29877939e9eee1d832": {
     "views": []
    },
    "e9e1e76717644381aefb74d7eb19663d": {
     "views": []
    },
    "e9f5aeb73f604ad2b9080db71275b945": {
     "views": []
    },
    "ea28aa61f17e4553af235d191e4eb8ac": {
     "views": []
    },
    "ea2e595511254711a26ffd1f3fc59c59": {
     "views": []
    },
    "ea2e6b5f7011428b9c64e4a4ffd2266d": {
     "views": []
    },
    "ea3aa00bb1c840c4af447644af7482d9": {
     "views": []
    },
    "ea48be60a41942249a010b533072d8ba": {
     "views": []
    },
    "eaa0f6d7a9ff4b59a5943d2d5ef95412": {
     "views": []
    },
    "eaa31293f7eb4a579e893fcdd3b3119e": {
     "views": []
    },
    "eabf3208b5f44556948d2173c383acfb": {
     "views": []
    },
    "eac9ca073c034fefb9e8961f900cefe8": {
     "views": []
    },
    "eb9b2a110efb4fc0895058bace40e4ad": {
     "views": []
    },
    "ebb8057462c04320a260c38e8018df16": {
     "views": []
    },
    "ebfa621011ff4cf985db17b55cecd667": {
     "views": []
    },
    "ec2ba230bae643fdb6f55ae1c99cb87e": {
     "views": []
    },
    "ec6728639b904689882b841728f91216": {
     "views": []
    },
    "ecc6b1b170b14073979c2bc653dabebb": {
     "views": []
    },
    "ed0e43beaf41461080b97bcdc397af57": {
     "views": []
    },
    "ed2421a70b6440eca5aed845cc6909ad": {
     "views": []
    },
    "ed4d00781f394c209ce3dcd8ea686252": {
     "views": []
    },
    "ed57d569204a4d6c8ff4503e757fa193": {
     "views": []
    },
    "ed7be7677f054d5ba787ae9d47dc5e1b": {
     "views": []
    },
    "ed8da88403134bb0ba8db351ab8c8464": {
     "views": []
    },
    "ede02ba42697482eb2612769fcfb5483": {
     "views": []
    },
    "edecfb84d21d49558e54f58fdca2e3d9": {
     "views": []
    },
    "ee94bb3a68df4c0d95a70c5676e49f39": {
     "views": []
    },
    "eea08884e15e4191a534e16d2d49009b": {
     "views": []
    },
    "eef62b2c056f44cea6c6c17db70c12e8": {
     "views": []
    },
    "ef3a918db3bc4ceba9facc52cd4c7547": {
     "views": []
    },
    "ef3da169d4834fd29ba5769c40abd439": {
     "views": []
    },
    "ef8444521e42431bbf3b389216bace26": {
     "views": []
    },
    "efdfdcd97ba443049f0eef8e267a8f80": {
     "views": []
    },
    "f003d9d2e5954e869080005087b51c2e": {
     "views": []
    },
    "f010ef0ac2e64da792d6c123f1419d61": {
     "views": []
    },
    "f0178c76b29e43bfb5b75230fa491196": {
     "views": []
    },
    "f01c9907d21d4dcba877c19f5ab6d834": {
     "views": []
    },
    "f07adc28d7f14a929d5f82a64dbcf94b": {
     "views": []
    },
    "f1be21c3358641f4bc9b55a9f2f54761": {
     "views": []
    },
    "f1d8265aaf7b4469aa51b37116b200c8": {
     "views": []
    },
    "f293649472f644cd854ea9e0bed6797d": {
     "views": []
    },
    "f2adfa1772734a08b8ae8b23a7225da7": {
     "views": []
    },
    "f3542763c9ba4c62a93486bb679a5809": {
     "views": []
    },
    "f389907ae1d343819ca55eef5f995fee": {
     "views": []
    },
    "f3c1e274fb6e43f3b29f4ac8f1c746cc": {
     "views": []
    },
    "f406b248b545423c96db240a81520a78": {
     "views": []
    },
    "f441c84f132a42aebde2ebcf91a79d14": {
     "views": []
    },
    "f46f22f01c4d474983bf585182a2d042": {
     "views": []
    },
    "f486db40311f4cf497248f0a98a827e9": {
     "views": []
    },
    "f4d1391f5b4b446b91c3a5ab2d8f2719": {
     "views": []
    },
    "f4dedd221f744500b5d74e0aa0c595df": {
     "views": []
    },
    "f4e9d9a6c55a4f3fbfad3aabccf3a431": {
     "views": []
    },
    "f52e8c31fdc549d188f383465a33dd17": {
     "views": []
    },
    "f5a6d4eb84974ff08bd12415c7712197": {
     "views": []
    },
    "f5bcc1861047406eb8a443918e24646a": {
     "views": []
    },
    "f5e0a31f3ab24e3d89d477a98ee55fed": {
     "views": []
    },
    "f623e2050d584d84b7bdef4cfd20f0c4": {
     "views": []
    },
    "f6628242628540d69e49d9fe55cbf563": {
     "views": []
    },
    "f663f1dceda844ad936e4f28f57855b7": {
     "views": []
    },
    "f67fd9151f694ed1bc94d9ccc520ee33": {
     "views": []
    },
    "f7081d2062294d45ba5b72d7a34075ee": {
     "views": []
    },
    "f7781f6d92d646b4840a329bf93eca6f": {
     "views": []
    },
    "f798da45fcc44f5eb4a25ae71680a793": {
     "views": []
    },
    "f79a1435d6b94551b98ee040619438c4": {
     "views": []
    },
    "f7c7580a7f5b4be298e9e4f687470797": {
     "views": []
    },
    "f811756de76445d890f7793728e5f878": {
     "views": []
    },
    "f839ab5151054c33a229531be50f1915": {
     "views": []
    },
    "f884444291f04d6686bf9f4d880585f9": {
     "views": []
    },
    "f8d547e74af344f08d3f82a047fa2882": {
     "views": []
    },
    "f989ae2ae97e40ec83a4c99deb929810": {
     "views": []
    },
    "f9ba0f3ab65e42ae8ab781075993e0a3": {
     "views": []
    },
    "f9da86541d134c2ca20238d25a90e183": {
     "views": []
    },
    "fa263ec3eed746d8af1bc5dc87ce8114": {
     "views": []
    },
    "fa638da691c74926a28b46f73a23d1cd": {
     "views": []
    },
    "fa862dbe9f004846bd524f396a4ae4d7": {
     "views": []
    },
    "fa9e57f8e6894e0996c560c938840783": {
     "views": []
    },
    "faa302606dc94a22a5a9b4731d455c4f": {
     "views": []
    },
    "fac5eedee25a4c03892b4385c0f19d59": {
     "views": []
    },
    "fb11ca1fb6784ee88e0afd1612f9a0f0": {
     "views": []
    },
    "fb23f71b9aca4c4294a582f4baf7e8fd": {
     "views": []
    },
    "fb63fe0bb2af4f6abf0dcb224ffd8693": {
     "views": []
    },
    "fb67a129716a45bfa0a747ad3450146a": {
     "views": []
    },
    "fbb8e3cb675f49c881556449da20805a": {
     "views": []
    },
    "fc4874639e9d46d39383a7d18c6d92bf": {
     "views": []
    },
    "fc97b41d84a04556818ea7d36f6b5af8": {
     "views": []
    },
    "fcd51363429046a49c29ca0aa87c6d0a": {
     "views": []
    },
    "fd370d4eb3de4ce78bc8741399cb79d1": {
     "views": []
    },
    "fd61edc25439459f8d2d5a01b11f1bbb": {
     "views": []
    },
    "fd6358de0576438ab4fe17f75af63801": {
     "views": []
    },
    "fdb6da56efb84908bca8f5cb4daaf1c5": {
     "views": []
    },
    "fdc832ec483a477f870e7b394a848aee": {
     "views": []
    },
    "fe48b87929414b3d84f11a0dd9eea561": {
     "views": []
    },
    "fe8e0aa6d5474805992407d6ab87923a": {
     "views": []
    },
    "feaf84e536034066ac4c1f39b346b319": {
     "views": []
    },
    "fed62cf0b2404e659f02a9ce79d13062": {
     "views": []
    },
    "ff6a84652df84f0cac204700f6e14f6c": {
     "views": []
    },
    "ff73c0c0851e4930bda5e1c7e047dcef": {
     "views": []
    },
    "ff873a36bc534b0b96cfe659875a2103": {
     "views": []
    },
    "ffb09cdeaf3247e5aed424bde59dc2e6": {
     "views": []
    },
    "ffd4d1d8324e438ea435b1287bb0f66d": {
     "views": []
    },
    "ffe276dc97ff473397387b27e23216ed": {
     "views": []
    }
   },
   "version": "1.1.1"
  }
 },
 "nbformat": 4,
 "nbformat_minor": 0
}
