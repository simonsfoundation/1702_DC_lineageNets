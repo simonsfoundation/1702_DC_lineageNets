{
 "cells": [
  {
   "cell_type": "code",
   "execution_count": 5,
   "metadata": {
    "collapsed": false
   },
   "outputs": [],
   "source": [
    "directory = \"/Users/emiraldi/erm/Shared/DCproject/DCquantAtacNetworks\" # note, \"try\" statement below\n",
    "    # where script also searches the current directory\n",
    "\n",
    "# netPath = \"DC_genesets_FC1_FDR10/DCs_max4_body_bp10000/DCnets_loc/DCnets_loc_pFC1_FDR10_rawp0001_hyg0001\"\n",
    "netPath = \"DCs_ATAC_1701_cut4_2f_body_bp10000_pFDR10_FC1_gFDR10_FC1/DCs_pFDR10_FC1_gFDR10_FC1_rawp00001_hyg001\"\n",
    "\n",
    "# The starting conditions for each of the networks, a list of tuples.  Tuple entries are:\n",
    "# 0. network file name (column format) (as found in directory)\n",
    "# 1. column of the expression matrix that you want the nodes to be colored by\n",
    "# 2. network title, to which we'll add the gene and peak cutoffs\n",
    "# 3. subselect the list of relevant genes -- NOT USED for this code and can be left out\n",
    "networkInits = [('CD103p_sp.tsv','GF_SI_CD11b-CD103+_1','CD103+CD11b- DCs',''),\n",
    "\t('CD11bmCD103m_sp.tsv','GF_SI_CD11b-CD103-_1','CD11b-CD103- DCs',''),\n",
    "\t('CD11bpCD103p_sp.tsv','GF_SI_CD11b+CD103+_1','CD11b+CD103+ DCs',''),\n",
    "\t('CD11bp_sp.tsv','GF_SI_CD11b+CD103-_1','CD11b+CD103- DCs',''),\n",
    "\t('Macrophage_sp.tsv','GF_SI_Macrophage_1','Macrophage',''),\n",
    "\t('Monocyte_sp.tsv','GF_SI_Monocyte_1','Monocyte','')]\n",
    "\n",
    "expressionFile = \"DC_RNAseq_2f_lengthNormCounts.txt\"\n",
    "\n",
    "tfFocus = 1 # If 1, automatically applies the \"trim\" function, so we can focus on TFs\n",
    "    # If 0, does not!\n",
    "\n",
    "threshhold = .2 # Set to .6 if you want to remove TFs that aren't differentially expressed\n",
    "\n",
    "clim = 1.5 # absolute value color threshhold on edge color"
   ]
  },
  {
   "cell_type": "code",
   "execution_count": 6,
   "metadata": {
    "collapsed": false
   },
   "outputs": [],
   "source": [
    "from jp_gene_viz import LExpression\n",
    "from numpy import array\n",
    "# Part 1 of a hacky way to set color threshhold\n",
    "\n",
    "# from jp_gene_viz import motif_data\n",
    "# C = motif_data.MotifCollection()\n",
    "# # for extra safety \"rU\" reads with universal line ending support\n",
    "# C.read_meme_file(open(directory + '/' + \"mm9_em.meme\", \"rU\"))\n",
    "# C.read_meme_file(open(directory + '/' + \"hg19_em.meme\", \"rU\"))"
   ]
  },
  {
   "cell_type": "code",
   "execution_count": 7,
   "metadata": {
    "collapsed": false
   },
   "outputs": [],
   "source": [
    "LExpression.load_javascript_support()"
   ]
  },
  {
   "cell_type": "code",
   "execution_count": 8,
   "metadata": {
    "collapsed": false
   },
   "outputs": [
    {
     "name": "stdout",
     "output_type": "stream",
     "text": [
      "('Reading network', './DCs_ATAC_1701_cut4_2f_body_bp10000_pFDR10_FC1_gFDR10_FC1/DCs_pFDR10_FC1_gFDR10_FC1_rawp00001_hyg001/CD103p_sp.tsv')\n",
      "('Loading saved layout', './DCs_ATAC_1701_cut4_2f_body_bp10000_pFDR10_FC1_gFDR10_FC1/DCs_pFDR10_FC1_gFDR10_FC1_rawp00001_hyg001/CD103p_sp.tsv.layout.json')\n",
      "Omitting edges, using canvas, and fast layout default because the network is large\n",
      "('Reading network', './DCs_ATAC_1701_cut4_2f_body_bp10000_pFDR10_FC1_gFDR10_FC1/DCs_pFDR10_FC1_gFDR10_FC1_rawp00001_hyg001/CD11bmCD103m_sp.tsv')\n",
      "('Loading saved layout', './DCs_ATAC_1701_cut4_2f_body_bp10000_pFDR10_FC1_gFDR10_FC1/DCs_pFDR10_FC1_gFDR10_FC1_rawp00001_hyg001/CD11bmCD103m_sp.tsv.layout.json')\n",
      "Omitting edges, using canvas, and fast layout default because the network is large\n",
      "('Reading network', './DCs_ATAC_1701_cut4_2f_body_bp10000_pFDR10_FC1_gFDR10_FC1/DCs_pFDR10_FC1_gFDR10_FC1_rawp00001_hyg001/CD11bpCD103p_sp.tsv')\n",
      "('Loading saved layout', './DCs_ATAC_1701_cut4_2f_body_bp10000_pFDR10_FC1_gFDR10_FC1/DCs_pFDR10_FC1_gFDR10_FC1_rawp00001_hyg001/CD11bpCD103p_sp.tsv.layout.json')\n",
      "Omitting edges, using canvas, and fast layout default because the network is large\n",
      "('Reading network', './DCs_ATAC_1701_cut4_2f_body_bp10000_pFDR10_FC1_gFDR10_FC1/DCs_pFDR10_FC1_gFDR10_FC1_rawp00001_hyg001/CD11bp_sp.tsv')\n",
      "('Loading saved layout', './DCs_ATAC_1701_cut4_2f_body_bp10000_pFDR10_FC1_gFDR10_FC1/DCs_pFDR10_FC1_gFDR10_FC1_rawp00001_hyg001/CD11bp_sp.tsv.layout.json')\n",
      "Omitting edges, using canvas, and fast layout default because the network is large\n",
      "('Reading network', './DCs_ATAC_1701_cut4_2f_body_bp10000_pFDR10_FC1_gFDR10_FC1/DCs_pFDR10_FC1_gFDR10_FC1_rawp00001_hyg001/Macrophage_sp.tsv')\n",
      "('Loading saved layout', './DCs_ATAC_1701_cut4_2f_body_bp10000_pFDR10_FC1_gFDR10_FC1/DCs_pFDR10_FC1_gFDR10_FC1_rawp00001_hyg001/Macrophage_sp.tsv.layout.json')\n",
      "Omitting edges, using canvas, and fast layout default because the network is large\n",
      "('Reading network', './DCs_ATAC_1701_cut4_2f_body_bp10000_pFDR10_FC1_gFDR10_FC1/DCs_pFDR10_FC1_gFDR10_FC1_rawp00001_hyg001/Monocyte_sp.tsv')\n",
      "('Loading saved layout', './DCs_ATAC_1701_cut4_2f_body_bp10000_pFDR10_FC1_gFDR10_FC1/DCs_pFDR10_FC1_gFDR10_FC1_rawp00001_hyg001/Monocyte_sp.tsv.layout.json')\n",
      "Omitting edges, using canvas, and fast layout default because the network is large\n"
     ]
    }
   ],
   "source": [
    "for networkInit in networkInits:\n",
    "    currCol = networkInit[1]\n",
    "    networkFile = networkInit[0]\n",
    "    L = LExpression.LinkedExpressionNetwork()\n",
    "    L.show()\n",
    "    try:\n",
    "        L.load_network(directory + '/' + netPath + '/' + networkFile)\n",
    "    except AssertionError:\n",
    "        directory = \".\"\n",
    "        L.load_network(directory + '/' + netPath + '/' + networkFile)    \n",
    "    L.load_heatmap(directory + '/' + expressionFile)\n",
    "    N = L.network\n",
    "    N.set_title(networkInit[2])\n",
    "    # set threshold\n",
    "    N.threshhold_slider.value = threshhold\n",
    "    N.apply_click(None)\n",
    "    if tfFocus:\n",
    "        # focus on TF core    \n",
    "        N.trim_click(None)\n",
    "        N.layout_click(None)    \n",
    "    N.draw()    \n",
    "    # Limit genes to target genes of interest and their putative regulators\n",
    "#     geneListFile = networkInit[3]\n",
    "#     geneIn = open(directory + '/' + geneListFile,'r')    \n",
    "#     geneList = list()\n",
    "#     for gene in geneIn:\n",
    "#         geneList.append(gene.strip('\\n').lower())\n",
    "#     geneIn.close()\n",
    "#     N.pattern_text.value = \" \".join(geneList)\n",
    "#     N.match_click(None)\n",
    "#     N.targeted_click(None)\n",
    "# #     regulates_click(None)\n",
    "#     N.layout_click(None)    \n",
    "\n",
    "\n",
    "    # color nodes according to a sample column in the gene expression matrix\n",
    "    L.gene_click(None)    \n",
    "    L.expression.transform_dropdown.value = 'Z score'\n",
    "    L.expression.apply_transform()\n",
    "    L.expression.col = currCol    \n",
    "    L.condition_click(None)\n",
    "    N.layout_click(None)\n",
    "    N.labels_button.value=True\n",
    "\n",
    "    # Part 2: a hacky way to set min and max on the heatmap and heatmap-colored nodes\n",
    "#     N.display_graph._edge_color_interpolator.minclr = minclr\n",
    "#     N.display_graph._edge_color_interpolator.maxclr = maxclr\n",
    "#     N.display_graph._edge_color_interpolator.breakpoints = \\\n",
    "#         [(minvalue, minclr),\n",
    "#          (0, zeroclr),\n",
    "#          (maxvalue, maxclr)]\n",
    "    N.draw()\n",
    "    \n",
    "#     # Attach the motif collection populated above:\n",
    "#     N.motif_collection = C\n",
    "#     net_with_motifs\n",
    "\n"
   ]
  },
  {
   "cell_type": "code",
   "execution_count": null,
   "metadata": {
    "collapsed": true
   },
   "outputs": [],
   "source": []
  }
 ],
 "metadata": {
  "anaconda-cloud": {},
  "kernelspec": {
   "display_name": "Python [default]",
   "language": "python",
   "name": "python2"
  },
  "language_info": {
   "codemirror_mode": {
    "name": "ipython",
    "version": 2
   },
   "file_extension": ".py",
   "mimetype": "text/x-python",
   "name": "python",
   "nbconvert_exporter": "python",
   "pygments_lexer": "ipython2",
   "version": "2.7.12"
  },
  "widgets": {
   "state": {
    "12262452de5742059cf5cc321565b177": {
     "views": [
      {
       "cell_index": 3
      }
     ]
    },
    "1619ab051a1b4918a4dcf9a4e22e2338": {
     "views": [
      {
       "cell_index": 3
      }
     ]
    },
    "19a2ecdd763e4b719cf8023b4ad46116": {
     "views": [
      {
       "cell_index": 3
      }
     ]
    },
    "464792b112714345abedba20ab2ec7a2": {
     "views": [
      {
       "cell_index": 3
      }
     ]
    },
    "4a7f10791f644b7e91fae1a7eafbf776": {
     "views": [
      {
       "cell_index": 3
      }
     ]
    },
    "774b6e907a4d4ae9846672bf99e2be7d": {
     "views": [
      {
       "cell_index": 3
      }
     ]
    },
    "a423eb9e1d844d978512e81ec38eb5ff": {
     "views": [
      {
       "cell_index": 3
      }
     ]
    },
    "e042b844668e46e38778ab9d56ca0153": {
     "views": [
      {
       "cell_index": 3
      }
     ]
    },
    "ef47a15cc8804c0eb34e49ea30257491": {
     "views": [
      {
       "cell_index": 3
      }
     ]
    }
   },
   "version": "1.2.0"
  }
 },
 "nbformat": 4,
 "nbformat_minor": 0
}
